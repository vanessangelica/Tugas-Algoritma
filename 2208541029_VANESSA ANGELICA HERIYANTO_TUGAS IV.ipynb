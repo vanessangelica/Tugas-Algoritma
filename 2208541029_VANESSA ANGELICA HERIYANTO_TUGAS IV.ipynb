{
 "cells": [
  {
   "cell_type": "markdown",
   "id": "c443f9da",
   "metadata": {},
   "source": [
    "# While Loop"
   ]
  },
  {
   "cell_type": "code",
   "execution_count": null,
   "id": "3c2ab09a",
   "metadata": {},
   "outputs": [],
   "source": [
    "While loop adalah metode perulangan dimana ada kondisi yang harus dipenuhi agar looping bisa terus berjalan.\n",
    "While loop akan selalu dieksekusi selama nilainya True dan akan berhenti saat menjadi False."
   ]
  },
  {
   "cell_type": "code",
   "execution_count": null,
   "id": "f21e1b75",
   "metadata": {},
   "outputs": [],
   "source": [
    "#Kasus 1\n",
    "a=0   #Loop dimulai dari a=0 sampai seterusnya hingga pernyataan a<5 bernilai false \n",
    "while a<5:\n",
    "    #a dikuadratkan\n",
    "    a=a**2\n",
    "    #hasil a yang dikuadratkan ditambah dengan 1\n",
    "    a=a+1\n",
    "    #hasil a yang sudah ditambah 1 akan kembali diloop\n",
    "print (a)  #hasil akan diprint ketika loop sudah berhenti, yaitu saat pernyataan 'a<5' bernilai false."
   ]
  },
  {
   "cell_type": "code",
   "execution_count": null,
   "id": "23b9f8a8",
   "metadata": {},
   "outputs": [],
   "source": [
    "#Kasus 2\n",
    "x=0  #loop dimulai dari x=0 \n",
    "while x>2:\n",
    "# nilai x dimulai dari 0, namun x=0 tidak memenuhi pernyataan x>2\n",
    "    y=x**2\n",
    "    x=x-1\n",
    "#sehingga angka nol lah yang akan diprint oleh sistem\n",
    "print (x)"
   ]
  },
  {
   "cell_type": "code",
   "execution_count": null,
   "id": "310be367",
   "metadata": {},
   "outputs": [],
   "source": [
    "#Kasus 3\n",
    "x=-6  #loop dimulai dari x=-6 \n",
    "while x>-10:\n",
    "    x=x-1 #x akan dikurangi 1\n",
    "    print (x)"
   ]
  },
  {
   "cell_type": "code",
   "execution_count": null,
   "id": "e05e2b5e",
   "metadata": {},
   "outputs": [],
   "source": [
    "#Kasus 4\n",
    "a=0\n",
    "while a<5:\n",
    "    #menyisipkan kalimat tambahan pada while loop sebagai pelengkap\n",
    "    print (\"Angka \"+str(a)+\" masih di bawah 5\")\n",
    "    #a akan terus diloop sampai menyalahi pernyataan 'a<5'\n",
    "    a+=1"
   ]
  },
  {
   "cell_type": "code",
   "execution_count": null,
   "id": "ebebc62c",
   "metadata": {},
   "outputs": [],
   "source": [
    "#Kasus 5\n",
    "buah=['manggis, jeruk,apell']\n",
    "i=0  #i dimulai dari angka 0\n",
    "while i<len (buah):  #jika i<3, maka harus memenuhi perintah print\n",
    "    print (buah[i])\n",
    "    i+=1  #lalu i ditambah 1 dan akan diloop kembali ke sistem"
   ]
  },
  {
   "cell_type": "code",
   "execution_count": 1,
   "id": "7cd38a9f",
   "metadata": {},
   "outputs": [
    {
     "name": "stdout",
     "output_type": "stream",
     "text": [
      "1\n",
      "2\n",
      "3\n",
      "1\n",
      "2\n",
      "3\n"
     ]
    }
   ],
   "source": [
    "#PERNYATAAN BREAK\n",
    "#dengan pernyaatn break, kita dapat menghentikan loop walaupun kondisi while maish bersifat True\n",
    "i=1\n",
    "while i<6:\n",
    "    print (i)\n",
    "    if i==3:  #di saat i=3, maka loop akan berhenti beroperasi\n",
    "        break\n",
    "    i+=1  #dan menampilkan angka dimana loopnya belum berhenti\n",
    "    \n",
    "#contoh kasus di atas juga dapat dibuat menjadi seperti ini:\n",
    "i=1\n",
    "while i<4:\n",
    "    print (i)\n",
    "    i+=1\n",
    "#hasilnya akan sama saja "
   ]
  },
  {
   "cell_type": "code",
   "execution_count": 2,
   "id": "bbc4e227",
   "metadata": {},
   "outputs": [
    {
     "name": "stdout",
     "output_type": "stream",
     "text": [
      "1\n",
      "2\n",
      "4\n",
      "5\n"
     ]
    }
   ],
   "source": [
    "#PERNYATAAN CONTINUE\n",
    "#dengan pernyataan continue ini, kita dapat menghentikan iterasi dan melanjutkan yang selanjutnya\n",
    "i=0\n",
    "while i<5:\n",
    "    i+=1\n",
    "    if i==3:    #menghentikan bila i=3, lalu melanjutkan sistem untuk angka selanjutnya yaitu 4\n",
    "        continue\n",
    "    print (i)"
   ]
  },
  {
   "cell_type": "code",
   "execution_count": 3,
   "id": "84e7cff2",
   "metadata": {},
   "outputs": [
    {
     "name": "stdout",
     "output_type": "stream",
     "text": [
      "1\n",
      "2\n",
      "3\n",
      "4\n",
      "i tidak lagi bernilai lebih kecil dari 6\n"
     ]
    }
   ],
   "source": [
    "#PERNYATAAN ELSE\n",
    "#dengan pernyataan ini, kita dapat menjalankan kode blok ketika kondisi tidak lagi bernilai True\n",
    "i=1\n",
    "while i<5: #dijalankan saat masih memenuhi kondisi\n",
    "    print (i)\n",
    "    i+=1\n",
    "else: #dijalankan saat sudah tidak memenuhi kondisi\n",
    "    print ('i tidak lagi bernilai lebih kecil dari 6')  #ketika i tidak bernilai<6 maka akan tercetak kalimat ini"
   ]
  },
  {
   "cell_type": "markdown",
   "id": "3196d3b8",
   "metadata": {},
   "source": [
    "# List di Phyton"
   ]
  },
  {
   "cell_type": "code",
   "execution_count": null,
   "id": "0c060b23",
   "metadata": {},
   "outputs": [],
   "source": [
    "List phyton merespon operator + dan * seperti string, artinya penggabungan dan pengulangan di list phyton berlaky, kecuali \n",
    "hasilnya adalah list baru."
   ]
  },
  {
   "cell_type": "code",
   "execution_count": null,
   "id": "849192aa",
   "metadata": {},
   "outputs": [],
   "source": [
    "#CONTOH OPERASI DASAR LIST PHYTON\n",
    "\n",
    "print (len ([1,2,5,6])) #menghitung banyak elemen menggunakan len\n",
    "print ([2,-6,0,9]+[0,1]) # menggabungkan isi dari 2 list berbeda\n",
    "print ([3*'*'])  #mengalikan 3 dengan bintang, sehaingga hasilnya akan mencetak bintang sebanyak 3 kali\n",
    "3 in ([1,2,33,4,4,7]) #Menguji keanggotaan dari elemen 3\n",
    "for x in [1,2,3]:     #mencetak elemen yang ada pada list\n",
    "                      #x menampung indeks, \n",
    "    print (x, end=\" \") #setelah mencetak x, maka diberikan spasi"
   ]
  },
  {
   "cell_type": "code",
   "execution_count": null,
   "id": "7e799217",
   "metadata": {},
   "outputs": [],
   "source": [
    "#CONTOH 1 LIST PHYTON\n",
    "vektor_a=[1,2,3,4] #deklarasi dari vektor a\n",
    "vektor_b=[5,6,7,8] #deklarasi dari vektor b\n",
    "vektor=vektor_a+vektor_b  #penjumlahan vektor1 dan 2 berarti menggabungkan isi dari kedua vektor tersebut \n",
    "print (vektor)\n",
    "print (vektor_a)\n",
    "print (vektor_b)\n",
    "\n",
    "#replace anggota 'vektor' dengan angka lain\n",
    "vektor[0]=45 #vektor[0] seharusnya adalah angka1, namun akan diganti dengan angka 45\n",
    "print (vektor)\n",
    "vektor [1]=4 #vektor [1] seharusnya adalah angka 2, namun akan diganti dengan angka 4\n",
    "print (vektor)\n",
    "\n",
    "#menambahkan elemen dari list yang berbeda\n",
    "list1.extend(list2) #list1 mendapat elemen tambahan yang merupakan anggota dari list2\n",
    "print (list1)"
   ]
  },
  {
   "cell_type": "code",
   "execution_count": null,
   "id": "377ad3c3",
   "metadata": {},
   "outputs": [],
   "source": [
    "#CONTOH 2 LIST PHYTON\n",
    "buah=['mangga', 'pisang', 'rambutan','durian']\n",
    "print (buah) #Print isi dari buah\n",
    "\n",
    "print (buah[0]) #print buah dengan index ke-0, yaitu mangga\n",
    "print (buah[1]) #print buah dengan index ke-1, yaitu pisang\n",
    "print (buah[2]) #print buah dengan index ke-2, yaitu rambutan\n",
    "print (buah[3]) #print buah dengan index ke-3, yaitu durian\n",
    "print (buah[-1])#print buah dengan index -1 atau index ke-3, yaitu durian\n",
    "print (buah[-3:-1]) #Print buah dari index -3 sampai -1 (index -1 tidak ditulis) atau index 1 ke 3 (index3 tidak ditulis), \n",
    "                    #yaitu pisang dan rambutan\n",
    "print (buah [0]+' dan '+buah [1]+' adalah buah favorit Selena Gomez') #menyisipkan kalimat pada penggunaan list phyton \n",
    "                                                                        #sebagai pemanis\n"
   ]
  },
  {
   "cell_type": "code",
   "execution_count": null,
   "id": "aef9b716",
   "metadata": {},
   "outputs": [],
   "source": [
    "#mengganti anggota dengan kata lain\n",
    "buah[0]=\"salak\" #seharusnya mangga, digantikan dengan salak\n",
    "print (buah)\n",
    "\n",
    "#mengganti seluruh anggota buah dengan yang lain\n",
    "buah[3]='permen' #mengganti kata durian dengan permen\n",
    "buah [0]='lidah buaya' #mengganti lagi yang awalnya salak menjadi lidah buaya\n",
    "buah[1]='kacang' #mengganti kata pisang dengan kacang\n",
    "buah [2]=\"lolipop\" #mengganti kata rambutan dengan lolipop\n",
    "print (buah)\n",
    "\n",
    "#menguji true atau false himpunan buah\n",
    "print (buah[1:3]=='ayam goreng') #kode di samping seperti menanyakan apkah dari buah indeks ke1-3 terdapat kata ayam goreng? \n",
    "                                    #namun, jawabannya adalah tidak, sehingga false\n",
    "print (buah[2]==\"seblak\") #jawaban false karena tidak terdapat kata seblak pada buah indeks ke2\n",
    "print (buah[0]=='lidah buaya')#jawaban true karena buah indeks ke0 adalah lidah buaya"
   ]
  },
  {
   "cell_type": "code",
   "execution_count": null,
   "id": "37c381ea",
   "metadata": {},
   "outputs": [],
   "source": [
    "#CONTOH 3 LIST PHYTON\n",
    "#Berikut adalah beberapa anggota dari aplikasi yang sedang populer di Indonesia\n",
    "A= ['Instagram', 'Twitter', 'Line', 'Whatsapp']\n",
    "print (A[1]) #pemanggilan A index ke1\n",
    "print (A[1:3]) #pemanggilan A index ke1 sampai 3\n",
    "print (A[0:3]) #pemanggilan A index ke 0 sampai 3\n",
    "print ('Berikut adalah beberapa aplikasi populer yang ada di Indonesia '+ str( A)) #Mencetak dari penyisipan kalimat digabung\n",
    "                                                                                    #dengan list yang dideklarasikan\n",
    "#CONTOH 4 LIST PHYTON\n",
    "minuman=['air putih','coca cola','infused water','jus buah']\n",
    "if 'jus buah' in minuman:  #untuk menentukan apakah item ini ada di list\n",
    "    print(\"Ya, Jus buah termasuk dalam list minuman\")"
   ]
  },
  {
   "cell_type": "code",
   "execution_count": null,
   "id": "bccdfd4c",
   "metadata": {},
   "outputs": [],
   "source": [
    "#CARA MENGAKSES NILAI DALAM LIST PHYTON\n",
    "list1=['fisika','matematika','kimia','biologi','seni budaya'] #deklarasi isi list1\n",
    "list2= [1,2,3,4,5,6,7] #deklarasi isi dari list2\n",
    "print (\"list1[0]: \",list1[0]) #menambahkan kalimat pada pemanggilan list1[0]\n",
    "print (\"list2[5]: \",list2[5]) #penambahan kalimat pada pemanggilan list2[5]\n",
    "print (\"Nilai rata-rata ujian fisika di kelas 3A adalah \", list2[5]) #contoh kalimat lain untuk pemanggilan list2[5]\n",
    "\n",
    "\n",
    "#CARA HAPUS NILAI DALAM LIST PHYTON\n",
    "#dapat menggunakan del jika sudah menentukan elemen yang nantinya akan dihapus\n",
    "#dapat menggunakan remove jika belum menentukan elemen yang akan dihapus\n",
    "print (list1)\n",
    "del list1[2] #hanya menghapus index ke2 \n",
    "print (list1.clear()) #menghapus list sepenuhnya"
   ]
  },
  {
   "cell_type": "markdown",
   "id": "dbf35dcf",
   "metadata": {},
   "source": [
    "# Metoda List"
   ]
  },
  {
   "cell_type": "code",
   "execution_count": null,
   "id": "fcdfab98",
   "metadata": {},
   "outputs": [],
   "source": [
    "Karena list merupakan objek, maka keberadaannya dapat dimanipulasi dengan menambahkan atau menghilangkan isinya."
   ]
  },
  {
   "cell_type": "code",
   "execution_count": null,
   "id": "7614593c",
   "metadata": {},
   "outputs": [],
   "source": [
    "#CONTOH 1 METODE LIST\n",
    "#membuat suatu list bernama nama_29  \n",
    "nama_29=[\"Vanessa\",\" Made\",\" Dewi\", \"Komang\"]\n",
    "nama_29.append ('Komang') #menambahkan sebuah kata, dimana kata yang sama sudah ada di dalam list\n",
    "print (nama_29) #sehingga hasilnya akan memiliki 2 kata yang sama\n",
    "\n",
    "\n",
    "#menyisipkan suatu kata di dalam list\n",
    "nama_29.insert(0,'Dewi')  #menyisipkan index ke0 dengan kata Dewi\n",
    "print (nama_29) #nama Dewi akan menjadi elemen pertama di dalam list, tidak mengubah elemen lainnya\n",
    "\n",
    "\n",
    "#menghilangkan suatu anggota dalam list\n",
    "nama_29.remove ('Vanessa') #Menghilangkan kata Vanessa yang ada dalam list, tepatnya di index ke1\n",
    "print (nama_29) #kata Vanessa akan hilang, sehingga kata MAde menggantikan posisinya, begitu juga elemen lain di belakangnya\n",
    "\n",
    "\n",
    "#mencetak suatu kata (bila tidak terdapat di dalam list, maka akan bernilai false)\n",
    "print ('Eka'in nama_29) #Apakah nama eka ada di dalam list? Tidak\n",
    "print ('Komang' in nama_29) #Nama Komang terdapat di dalam list\n"
   ]
  },
  {
   "cell_type": "code",
   "execution_count": null,
   "id": "67f19383",
   "metadata": {},
   "outputs": [],
   "source": [
    "#CONTOH 2 METODE LIST\n",
    "warna_favorit=['pink','peach','cream','black','white']\n",
    "\n",
    "#menghitung berapa banyak anggota dalam list warna favorit\n",
    "print (len(warna_favorit)) #list warna favorit memiliki 5 anggota\n",
    "\n",
    "#Membalik urutan list\n",
    "warna_favorit.reverse()\n",
    "print (warna_favorit) #yang terprint adalah elemen yang terakhir hingga paling awal\n",
    "\n",
    "#mengurutkan list\n",
    "warna_favorit.sort() #pengurutan dilakukan berdasarkan alfabet paling awal hingga akhir\n",
    "print (warna_favorit) "
   ]
  },
  {
   "cell_type": "code",
   "execution_count": null,
   "id": "e15b7959",
   "metadata": {},
   "outputs": [],
   "source": [
    "#CONTOH 3 METODE LIST\n",
    "nilai_29= [45,89,65,90,79,85,78,81,95]\n",
    "#List di atas adalah list yang berisi kumpulan nilai anak-anak yang melakukan remidi UAS\n",
    "#namun ternyata ibu guru lupa menambahkan nilai si Tono, sehingga Ibu menambahkan nilainya sbb:\n",
    "nilai_29.append(75) #nilai Tono adalah 75\n",
    "print(nilai_29)\n",
    "\n",
    "#untuk membuat peringkat nilai remidi anak-anak, ibu guru meranking dengan cara berikut\n",
    "nilai_29.sort() #pengurutan angka dimulai dari angka terkecil hingga terbesar\n",
    "print (nilai_29)\n",
    "\n",
    "#setelah mendapat peringkat, data ini tidak diperlukan lagi sehingga ibu guru ingin menghapus list ini\n",
    "nilai_29.clear()\n",
    "print (nilai_29) #sehingga data list sudah seluruhnya dihapus "
   ]
  },
  {
   "cell_type": "markdown",
   "id": "bbc73e3b",
   "metadata": {},
   "source": [
    "# For Loop"
   ]
  },
  {
   "cell_type": "code",
   "execution_count": null,
   "id": "3e036d66",
   "metadata": {},
   "outputs": [],
   "source": [
    "Untuk memanggil semua isi list"
   ]
  },
  {
   "cell_type": "code",
   "execution_count": null,
   "id": "7a3a1068",
   "metadata": {},
   "outputs": [],
   "source": [
    "#CONTOH 1 FOR LOOP\n",
    "makanan_29=['seblak','pink tempong','carbonara','kwetiaw siram']\n",
    "for jenis in makanan_29: #jenis adalah variabel yang menampung index dalam list\n",
    "    print (makanan_29[1]*2)      #setiap index yang ada dalam list diprint\n",
    "    "
   ]
  },
  {
   "cell_type": "code",
   "execution_count": null,
   "id": "14fa2f23",
   "metadata": {},
   "outputs": [],
   "source": [
    "#CONTOH 2 FOR LOOP\n",
    "for i in [0,1,2,3,4]: #untuk setiap i dalam list\n",
    "    y=i**2    #i dikuadratkan lalu dilambangkan dengan y\n",
    "    print (y)\n",
    "\n",
    "for i in [0,1,2,3,4]:\n",
    "    i+=2\n",
    "    print (i, end=\" \") #diberi tanda spasi setelah mencetak i\n",
    "    "
   ]
  },
  {
   "cell_type": "code",
   "execution_count": null,
   "id": "a7c57712",
   "metadata": {},
   "outputs": [],
   "source": [
    "#CONTOH 3 FOR LOOP\n",
    "buah=['manggis','srikaya','apel','delima']\n",
    "#mencoba menulis variabel random dengan nama saya Vanessa\n",
    "for vanessa in range (len(buah)): \n",
    "    print (buah[vanessa])"
   ]
  },
  {
   "cell_type": "code",
   "execution_count": null,
   "id": "0bf2332e",
   "metadata": {},
   "outputs": [],
   "source": [
    "#CONTOH 4 FOR LOOP\n",
    "\n",
    "#secara default, data input itu bersifat string sehingga perlu data integer\n",
    "#karena variabel tinggi segitiga 29 akan dipakai dalam perulangan\n",
    "#fungsi int akan mengubah nilai input string menjadi int\n",
    "\n",
    "tinggi_segitiga_29= int (input ('Masukkan tinggi segitiga= '))\n",
    "print ()\n",
    "\n",
    "for i in range (1,tinggi_segitiga_29+1):\n",
    "    for j in range (i):\n",
    "        #spasi setelah i bertujuan agar angka tidak berdempet satu sama lain\n",
    "        print (i,' ',end=' ',sep=' ')\n",
    "    #dijalankan untuk proses pindah baris\n",
    "    print ()\n",
    "    \n",
    "    \n",
    "#contoh kasus 6 yang tidak diberi spasi setelah i\n",
    "tinggi_segitiga_29= int (input ('Masukkan tinggi segitiga= '))\n",
    "print ()\n",
    "\n",
    "for i in range (1,tinggi_segitiga_29+1):\n",
    "    for j in range (i):\n",
    "        #tidak menggunakan spasi setelah i, angka yang tercetak akan berdempet\n",
    "        print (i,end=' ',sep=' ')\n",
    "    #dijalankan untuk proses pindah baris\n",
    "    print ()\n",
    "    "
   ]
  },
  {
   "cell_type": "code",
   "execution_count": null,
   "id": "94846ee3",
   "metadata": {},
   "outputs": [],
   "source": [
    "#CONTOH 6 menggunakan cara lain\n",
    "tinggi_segitiga_29= int (input ('Input tinggi segitiga=  '))\n",
    "print ()\n",
    "\n",
    "for i in range (tinggi_segitiga_29):\n",
    "    for j in range (i+1):#mulai dari 0 sampai 1 angka sebelum angka yang diinput\n",
    "                        #lalu ditambah dengan 1, hasilnya akan dikalika dengan bintang\n",
    "                        #banyaknya bintang yang tercetak akan sebanyak i\n",
    "        #berikan spasi tiap pencetakan tanda bintang\n",
    "        print (' *',end='')\n",
    "    print ()"
   ]
  },
  {
   "cell_type": "code",
   "execution_count": null,
   "id": "c3f2f28d",
   "metadata": {},
   "outputs": [],
   "source": [
    "#contoh penerapan for loop\n",
    "\n",
    "#range 'ulang=7' untuk menentukan seberapa banyak perulangan, yaitu 7 kali\n",
    "ulang = 7\n",
    "for i in range (ulang):  #variabel i befungsi menampung index, sedangkan range dari 0-7\n",
    "                         #serta untuk merubah tipe data dari integer ke data string\n",
    "    print (f\"loop ke-{i}\")\n",
    "    \n",
    "#saya mencoba membuat perulangan hanya sampai 2 kali\n",
    "for i in range (ulang):\n",
    "    ulang = 2   #ini berarti bahwa kita meminta nilai angka dari 0 sampai dengan 1 (sebelum 2)\n",
    "     #hasil outputnya adalah index ke0 hingga 2, yaitu angka 0 dan 1 \n",
    "    print (f\"loop ke-{i}\")\n",
    "    \n",
    "#namun pada saat saya menulis ulang=-7, output tidak muncul \n",
    "ulang=-7  #karena yg diminta adalah dari angka 0, memanggil angka dr kanan ke kira itu tidak bisa dilakukan\n",
    "for i in range (ulang):\n",
    "    print (f\"loop ke-{i}\")\n",
    "    \n",
    "#berikut adalah perbaikannya\n",
    "ulang=7 #pemanggilan harus ke kanan nol\n",
    "for i in range (ulang):\n",
    "    #hasil output adalah angka 0 sampai 6\n",
    "    print (f\"loop ke-{i}\")"
   ]
  },
  {
   "cell_type": "code",
   "execution_count": null,
   "id": "a8900ee6",
   "metadata": {},
   "outputs": [],
   "source": [
    "#CONTOH LAIN DARI FOR LOOP\n",
    "\n",
    "#contoh dengan satu argumen:\n",
    "for i in range (5):\n",
    "    #menyisipkan koma di antara angka\n",
    "    print (i,end=\", \") \n",
    "    \n",
    "for i in range (5):\n",
    "    #bila tidak menyisipkan koma di antara angka\n",
    "    print (i) #maka hasil print akan tertulis secara vertikal ke atas\n",
    "    \n",
    "    \n",
    "#contoh dengan 2 argumen:\n",
    "for i in range (-10,-8):\n",
    "    #sisipkan koma \n",
    "    print (i, end=\", \")\n",
    "    \n",
    "#contoh dengan 3 argumen \n",
    "for i in range (-1,5,2): #angka dimulai dari angka -1 hingga 5 namun 5 tidak ditulis, lalu diberikan lompatan sebanyak 2\n",
    "    print (i, end=\", \")"
   ]
  },
  {
   "cell_type": "code",
   "execution_count": null,
   "id": "9fca254a",
   "metadata": {},
   "outputs": [],
   "source": [
    "#CONTOH FOR DENGAN KODE LEBIH KOMPLEKS\n",
    "\n",
    "\n",
    "for i in [1,3,5,7,9,11]: #variabel i menambung indeks\n",
    "    #tiap index akan dioperasikan sbb\n",
    "    x=i**2 - (i-1)*(i+1)\n",
    "    print (x, end=\", \")\n",
    "    \n",
    "    \n",
    "#contoh lain\n",
    "for i in [2,3,4,5,6]:\n",
    "    #tiap index yang ada akan dioperasikan sbb\n",
    "    x=i+1*0\n",
    "    print (x)"
   ]
  },
  {
   "cell_type": "markdown",
   "id": "533ecc57",
   "metadata": {},
   "source": [
    "# Fungsi Range"
   ]
  },
  {
   "cell_type": "code",
   "execution_count": null,
   "id": "090863e3",
   "metadata": {},
   "outputs": [],
   "source": [
    "Memberikan bilangan-bilangan yang berurutan sesuai dengan argumen yang diberikan."
   ]
  },
  {
   "cell_type": "code",
   "execution_count": null,
   "id": "2fb9b490",
   "metadata": {},
   "outputs": [],
   "source": [
    "#mencetak bilangan berurutan sesuai yang kita tulis, contohnya dari 0 sampai 6\n",
    "angka=range (6)\n",
    "print (angka)\n",
    "print (range(0)) #bila batas akhirnya 0, maka range yang dihasilkan adalah 0 sampai 0\n",
    "print (range (10)) #saya mencoba print range suatu angka random yaitu 10\n",
    "print (range(10000)) #mencoba angka yang lebih besar yaitu 10000\n",
    "print (range (-1)) #mencoba angka negatif, ternyata berfungsi\n",
    "print (range(-3,-5)) #mencoba range dengan meletakkan 2 angka sebagai batas awal dan batas akhir\n",
    "print (range(2,1,2)) #mencoba range dengan 3 angka\n",
    "#setelah mencoba 3 angka, saya berinisiatif untuk mengambil langsung ke5angka\n",
    "#hasil yang didapatkan adalah bahwa range hanya bisa 3 angka maksimal\n",
    "print (range (1,4,2)) # mencoba range dengan 5 angka (gagal), sehingga hanya bisa 3 angka maksimal"
   ]
  },
  {
   "cell_type": "code",
   "execution_count": 6,
   "id": "839d01cf",
   "metadata": {},
   "outputs": [
    {
     "name": "stdout",
     "output_type": "stream",
     "text": [
      "0\n",
      "1\n",
      "2\n",
      "3\n",
      "4\n",
      "5\n",
      "5\n",
      "6\n",
      "7\n",
      "8\n",
      "9\n",
      "5\n",
      "6\n",
      "7\n",
      "8\n",
      "9\n",
      "0\n",
      "2\n",
      "4\n",
      "6\n",
      "8\n",
      "15\n",
      "13\n",
      "11\n"
     ]
    }
   ],
   "source": [
    "angka=range (6) \n",
    "for x in angka:\n",
    "    print (x)  #mencetak semua x yang berada dalam list angka yaitu 0-6\n",
    "    \n",
    "for isi in range (5,10): #mencetak angka yang ada dari 5-10\n",
    "    print (isi)\n",
    "\n",
    "for isi in range (5,10): #mencetak angka dari 5-10(10 tidak termasuk)\n",
    "    print (isi)\n",
    "    \n",
    "for isi in range (0,10,2): ##buat barisan dari angka-angka 0 sampai dengan 10(10 tidak termasuk), namun dengan kenaikan 2\n",
    "    print (isi)\n",
    "    \n",
    "for isi in range (15,10,-2): #buat barisan dari angka-angka 15 sampai dengan 10 (10 tidak termasuk), namun dengan kenaikan -2\n",
    "    print (isi)"
   ]
  },
  {
   "cell_type": "code",
   "execution_count": 7,
   "id": "f0a1e2d9",
   "metadata": {},
   "outputs": [
    {
     "name": "stdout",
     "output_type": "stream",
     "text": [
      "0\n",
      "1\n",
      "2\n",
      "3\n",
      "4\n",
      "5\n",
      "6\n",
      "7\n",
      "8\n",
      "9\n",
      "10\n",
      "11\n",
      "12\n",
      "13\n",
      "14\n",
      "15\n",
      "16\n",
      "17\n",
      "18\n",
      "19\n",
      "20\n",
      "21\n",
      "22\n",
      "23\n",
      "24\n",
      "25\n",
      "26\n",
      "27\n",
      "28\n",
      "29\n",
      "30\n",
      "31\n",
      "32\n",
      "33\n",
      "34\n",
      "35\n",
      "36\n",
      "37\n",
      "38\n",
      "39\n",
      "40\n",
      "41\n",
      "42\n",
      "43\n",
      "44\n",
      "45\n",
      "46\n",
      "47\n",
      "48\n",
      "49\n",
      "50\n",
      "51\n",
      "52\n",
      "53\n",
      "54\n",
      "55\n",
      "56\n",
      "57\n",
      "58\n",
      "59\n",
      "60\n",
      "61\n",
      "62\n",
      "63\n",
      "64\n",
      "65\n",
      "66\n",
      "67\n",
      "68\n",
      "69\n",
      "70\n",
      "71\n",
      "72\n",
      "73\n",
      "74\n",
      "75\n",
      "76\n",
      "77\n",
      "78\n",
      "79\n",
      "80\n",
      "81\n",
      "82\n",
      "83\n",
      "84\n",
      "85\n",
      "86\n",
      "87\n",
      "88\n",
      "89\n",
      "90\n",
      "91\n",
      "92\n",
      "93\n",
      "94\n",
      "95\n",
      "96\n",
      "97\n",
      "98\n",
      "99\n"
     ]
    }
   ],
   "source": [
    "#print angka dalam range (0,100), angka 100 tidak termasuk\n",
    "angka=range (100)\n",
    "for x in angka:\n",
    "    print (x)"
   ]
  },
  {
   "cell_type": "code",
   "execution_count": null,
   "id": "ea6a0f1d",
   "metadata": {},
   "outputs": [],
   "source": []
  }
 ],
 "metadata": {
  "kernelspec": {
   "display_name": "Python 3 (ipykernel)",
   "language": "python",
   "name": "python3"
  },
  "language_info": {
   "codemirror_mode": {
    "name": "ipython",
    "version": 3
   },
   "file_extension": ".py",
   "mimetype": "text/x-python",
   "name": "python",
   "nbconvert_exporter": "python",
   "pygments_lexer": "ipython3",
   "version": "3.9.13"
  }
 },
 "nbformat": 4,
 "nbformat_minor": 5
}
