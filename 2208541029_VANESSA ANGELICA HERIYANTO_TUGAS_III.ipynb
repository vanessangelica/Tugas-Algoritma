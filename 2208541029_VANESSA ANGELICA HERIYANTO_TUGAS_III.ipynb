{
 "cells": [
  {
   "cell_type": "markdown",
   "id": "6a58fc69",
   "metadata": {},
   "source": [
    "# string index "
   ]
  },
  {
   "cell_type": "code",
   "execution_count": 13,
   "id": "7921703b",
   "metadata": {},
   "outputs": [
    {
     "name": "stdout",
     "output_type": "stream",
     "text": [
      "SAYA\n",
      "hai \n",
      "ay\n",
      "\n",
      " NAS\n"
     ]
    }
   ],
   "source": [
    "#PERCOBAAN STRING INDEX 1\n",
    "\n",
    "\n",
    "#jika angka yg dipanggil merupakan [0:4], maka karakter huruf yang keempat tidak ikut ditulis\n",
    "BUDI= 'SAYA MAKAN NASI'\n",
    "print (BUDI [0:4])\n",
    "\n",
    "#pemanggilan karakter harus sesuai persis dengan yang dideklarasikan, dari kapitalnya sekalipun\n",
    "#agar tidak terjadi error\n",
    "budi='hai semua, salam kenal'\n",
    "print (budi [0:4])\n",
    "\n",
    "#percobaan menggunakan tanda petik 2 \n",
    "Budi=\"saya makan nasi\"\n",
    "print (Budi [1:3])\n",
    "\n",
    "#percobaan string index dimana -1 merupakan huruf terakhir \"I\" di kata \"NASI\"\n",
    "#pemanggilan harus dari kiri ke kanan, dimana penulisan yang benar adalah [-5:1]\n",
    "print (BUDI [-1:-5])\n",
    "#hasil tidak ada\n",
    "\n",
    "#penulisan yang benar\n",
    "#karena [-5:-1], maka -1nya tidak terpanggil, sehingga menjadi \"NAS\"\n",
    "print (BUDI [-5:-1])"
   ]
  },
  {
   "cell_type": "markdown",
   "id": "a10d4148",
   "metadata": {},
   "source": []
  },
  {
   "cell_type": "code",
   "execution_count": 19,
   "id": "7ae60656",
   "metadata": {},
   "outputs": [
    {
     "name": "stdout",
     "output_type": "stream",
     "text": [
      "ini\n",
      "ini kelas algoritm\n",
      "ini kelas algoritm\n",
      "ini kelas algoritma\n",
      "\n",
      "k\n",
      "ini kelas algoritm\n",
      "ini kelas algoritm\n"
     ]
    }
   ],
   "source": [
    "#PERCOBAAN STRING INDEX 2\n",
    "\n",
    "kelas= \"ini kelas algoritma\"\n",
    "print (kelas[0:3])\n",
    "print (kelas [0:-1])\n",
    "print (kelas[5:-1])\n",
    "print (kelas [0:19])\n",
    "print (kelas[4:4])\n",
    "print (kelas[4:5])\n",
    "print (kelas[-19:-1])\n",
    "print (kelas [-20:-1])"
   ]
  },
  {
   "cell_type": "code",
   "execution_count": 40,
   "id": "cd9f9caa",
   "metadata": {
    "scrolled": false
   },
   "outputs": [
    {
     "name": "stdout",
     "output_type": "stream",
     "text": [
      "ieslrm\n",
      "i kelas algoritm\n",
      "ini kelas algori\n",
      "ni kelas algoritma\n",
      "ini kelas algoritma\n",
      "i\n",
      "l\n"
     ]
    }
   ],
   "source": [
    "kelas= \"ini kelas algoritma\"\n",
    "#yang dicetak adalah dari karakter ke 2 sampai ke-1 namun dengan jarak 3 tiap karakternya\n",
    "print (kelas [2:-1:3])\n",
    "\n",
    "#yang dicetak adalah dari karakter ke 2 sampai ke-1 namun dengan jarak 1 tiap karakternya\n",
    "print (kelas[2:-1:1])\n",
    "\n",
    "#tidak menulis karakter awal berarti mencetak kata dari awal kalimat sampai karakter akhir yang ditulis\n",
    "print (kelas[:-3])\n",
    "\n",
    "#tidak menulis karakter akhir berarti mencetak kata dari karakter awal yang ditulis sampe akhir\n",
    "print (kelas[1:])\n",
    "\n",
    "#ternyata tidak menulis karakter awal dan akhir dapat mencetak seluruh kata yang ada\n",
    "print (kelas[:])\n",
    "\n",
    "#percobaan memanggil satu karakter sahaja\n",
    "print (kelas[2])\n",
    "\n",
    "#penjumlahan antara karakter kedua dan keempat, saya kira akan menampilkan karakter kedua dan keempat\n",
    "#namun yang ditampilkan adalah karakter ke 6, yaitu hasil penjumlahan dari 2 dan 4\n",
    "print (kelas [2+4])\n",
    "\n"
   ]
  },
  {
   "cell_type": "code",
   "execution_count": 5,
   "id": "1f9ae7bf",
   "metadata": {},
   "outputs": [
    {
     "name": "stdout",
     "output_type": "stream",
     "text": [
      "l\n",
      "le\n",
      "leal\n",
      " \n",
      "Hello Bali!\n"
     ]
    }
   ],
   "source": [
    "#PERCOBAAN STRING INDEX 3\n",
    "#mendeklarasikan suatu kalimat melalui variabel x\n",
    "\n",
    "\n",
    "x='Hello Bali!'\n",
    "\n",
    "#print karakter kedua\n",
    "print (x[2])\n",
    "\n",
    "#print karakter kedua dan pertama\n",
    "print (x[2]+x[1])\n",
    "\n",
    "#print karakter kedua sampai dengan karakter keempat\n",
    "print (x[2]+x[1]+x[7]+x[3])\n",
    "\n",
    "#print karakter kelima yang merupakan spasi\n",
    "print(x[5])\n",
    "\n",
    "#print seluruh kalimat dari awal yaitu karakter ke0 sampai akhir karakter 11\n",
    "print (x[0:11])\n"
   ]
  },
  {
   "cell_type": "markdown",
   "id": "ec8d8810",
   "metadata": {},
   "source": [
    "# STRING METHODS"
   ]
  },
  {
   "cell_type": "code",
   "execution_count": 45,
   "id": "c814edaa",
   "metadata": {},
   "outputs": [
    {
     "name": "stdout",
     "output_type": "stream",
     "text": [
      "16\n",
      "BALI SURGA DUNIA\n",
      "bali surga dunia\n",
      "5\n",
      "0\n",
      "-1\n",
      "Jogjakarta Surga Dunia\n",
      "Bali Surga Dunia\n",
      "Bali Surga Dunia\n",
      "Australia serta Los Angeles Surga Dunia\n",
      "True\n",
      "False\n",
      "Bali surga dunia\n",
      "Bali Surga Dunia\n",
      "bALI sURGA dUNIA\n"
     ]
    }
   ],
   "source": [
    "#PERCOBAAN STRING METHODS 1\n",
    "\n",
    "#menghitung karakter yang ada di kalimat\n",
    "judul= 'Bali Surga Dunia'\n",
    "print (len (judul))\n",
    "\n",
    "#untuk membuat semua huruf pada setiap kata menjadi huruf kapital\n",
    "print (judul.upper())\n",
    "\n",
    "#untuk membuat semua huruf pada setiap kata menjadi huruf kecil\n",
    "print (judul.lower ())\n",
    "\n",
    "#menemukan dimana suatu kata terdapat di kalimat (dimulai dari nol)\n",
    "print (judul.find ('Surga'))\n",
    "print (judul.find ('Bali'))\n",
    "print (judul.find ('bali'))\n",
    "\n",
    "#mengganti suatu kata dengan kata lain\n",
    "print (judul.replace ('Bali','Jogjakarta'))\n",
    "print (judul.replace ('bali','Indonesia'))\n",
    "print (judul.replace('nyc','Bali'))\n",
    "print (judul.replace (\"Bali\",\"Australia serta Los Angeles\"))\n",
    "\n",
    "#menampilkan apakah kata berikut terdapat pada kalimat\n",
    "print ('Surga' in judul)\n",
    "print ('nyc' in judul)\n",
    "\n",
    "#untuk mengubah karakter pertama pada kata pertama menjadi huruf besar\n",
    "print (judul.capitalize())\n",
    "\n",
    "#untuk mengubah karakter pertama pada setiap kata menjadi huruf besar\n",
    "print (judul.title())\n",
    "\n",
    "#untuk mengubah karakter huruf besar menjadi huruf kecil dan sebaliknya \n",
    "print (judul.swapcase())\n"
   ]
  },
  {
   "cell_type": "code",
   "execution_count": null,
   "id": "587295c5",
   "metadata": {},
   "outputs": [],
   "source": []
  },
  {
   "cell_type": "markdown",
   "id": "d183cee2",
   "metadata": {},
   "source": [
    "# operasi matematika phyton"
   ]
  },
  {
   "cell_type": "code",
   "execution_count": 49,
   "id": "98229965",
   "metadata": {},
   "outputs": [
    {
     "name": "stdout",
     "output_type": "stream",
     "text": [
      "5\n",
      "5\n",
      "5\n",
      "8\n",
      "1\n",
      "-2\n",
      "5\n",
      "0\n",
      "0\n",
      "1\n",
      "0\n",
      "1\n",
      "1\n",
      "3\n",
      "2\n",
      "27\n",
      "4\n",
      "1\n"
     ]
    }
   ],
   "source": [
    "#Asumsikan:\n",
    "x=3\n",
    "y=2\n",
    "\n",
    "#operasi penjumlahan\n",
    "print (x+y)\n",
    "print (2+3)\n",
    "print (x+2)\n",
    "\n",
    "#operasi penjumlahan dan perkalian\n",
    "print (2+3*2)\n",
    "\n",
    "#operasi pengurangan\n",
    "print (x-y)\n",
    "print (x-x-y)\n",
    "\n",
    "#operasi pengurangan dan pengalian\n",
    "print (2-3+x*y)\n",
    "\n",
    "#operasi campuran antara kali, tambah dan kurang\n",
    "print (x+y+y-2*y-x)\n",
    "\n",
    "#operasi pembulatan pembagian\n",
    "print (2//3)\n",
    "print (x//y)\n",
    "print (x*y//y**x)\n",
    "\n",
    "\n",
    "#operasi modulo\n",
    "print (7%3)\n",
    "print (x%y)\n",
    "print (x+y%x-y)\n",
    "\n",
    "#operasi modulo dan perkalian\n",
    "print (7%3*2)\n",
    "\n",
    "#operasi pangkat\n",
    "print(3**3)\n",
    "print (x**y)\n",
    "print (y**x)\n",
    "\n",
    "x+=1\n",
    "print (x)\n",
    "x-=3\n",
    "print (x)\n",
    "x*=1\n",
    "x/=3\n",
    "x**=0\n",
    "x%=8"
   ]
  },
  {
   "cell_type": "markdown",
   "id": "1d00cd5d",
   "metadata": {},
   "source": [
    "# OPERATOR PERBANDINGAN DI PHYTON"
   ]
  },
  {
   "cell_type": "code",
   "execution_count": 13,
   "id": "c4d62610",
   "metadata": {},
   "outputs": [
    {
     "name": "stdout",
     "output_type": "stream",
     "text": [
      "True\n",
      "False\n",
      "True\n",
      "False\n",
      "False\n",
      "False\n",
      "False\n",
      "True\n",
      "False\n",
      "False\n",
      "False\n",
      "False\n"
     ]
    }
   ],
   "source": [
    "#LEBIH BESAR (>)\n",
    "\n",
    "#mencoba print hasil dari x dengan operasi lebih besar\n",
    "x= 3>2\n",
    "print (x)\n",
    "x=2>3\n",
    "print (x)\n",
    "#mencoba menjumlahkan angka \n",
    "x=3>1+1\n",
    "print (x)\n",
    "x=2+7>9\n",
    "print (x)\n",
    "x=1+4>8-2\n",
    "print (x)\n",
    "#mencoba mengurangkan angka \n",
    "x=5-4>9\n",
    "print (x)\n",
    "x=3<-2-3\n",
    "print (x)\n",
    "x=23-2>4-15\n",
    "print (x)\n",
    "#mencoba mencampur beberapa operasi di kedua ruas\n",
    "x= 3+5-1*5>2/1*5+9\n",
    "print (x)\n",
    "x= 1+5^2>32\n",
    "print (x)\n",
    "x=3>3*1\n",
    "print (x)\n",
    "x= 7//2 >2**2\n",
    "print (x)\n",
    "\n"
   ]
  },
  {
   "cell_type": "code",
   "execution_count": 16,
   "id": "d5ced882",
   "metadata": {},
   "outputs": [
    {
     "name": "stdout",
     "output_type": "stream",
     "text": [
      "True\n",
      "False\n",
      "True\n",
      "False\n",
      "True\n",
      "True\n",
      "True\n",
      "False\n",
      "True\n",
      "True\n",
      "False\n",
      "True\n"
     ]
    }
   ],
   "source": [
    "#LEBIH KECIL (<)\n",
    "\n",
    "#print variabel yang sebelumnya, hasil yang muncul adalah hasil x lainnya\n",
    "y=2<3\n",
    "print (y)\n",
    "#menggunakan variabel baru yaitu y\n",
    "z=8<2\n",
    "print (z)\n",
    "#mencoba menjumlahkan angka \n",
    "x=2<7+1\n",
    "print (x)\n",
    "x=2+4<-1\n",
    "print (x)\n",
    "x=-7+4<0-2\n",
    "print (x)\n",
    "#mencoba mengurangkan angka di salah satu ruas \n",
    "x=-2<1-1\n",
    "print (x)\n",
    "x=5-4<9-5\n",
    "print (x)\n",
    "x=17-20<5-14\n",
    "print (x)\n",
    "#mencoba mencampur beberapa operasi di kedua ruas\n",
    "x= 9+5-10*3<2/1*3+2\n",
    "print (x)\n",
    "x= 1+5^-2<1\n",
    "print (x)\n",
    "x=1<-4*3\n",
    "print (x)\n",
    "x= 7//2 >2%2\n",
    "print (x)"
   ]
  },
  {
   "cell_type": "code",
   "execution_count": 17,
   "id": "93dd3c80",
   "metadata": {},
   "outputs": [
    {
     "name": "stdout",
     "output_type": "stream",
     "text": [
      "False\n",
      "True\n",
      "False\n",
      "True\n",
      "True\n",
      "False\n",
      "False\n",
      "True\n",
      "True\n",
      "False\n",
      "True\n",
      "(99, False, 9999999999999)\n",
      "True\n",
      "True\n",
      "False\n",
      "True\n"
     ]
    }
   ],
   "source": [
    "#LEBIH BESAR SAMA DENGAN (>=)\n",
    "x= 2>=3\n",
    "print (x)\n",
    "x=2>=2\n",
    "print (x)\n",
    "x=2//3>=2\n",
    "print (x)\n",
    "x= 2**2>=0%5\n",
    "print (x)\n",
    "\n",
    "#LEBIH KECIL SAMA DENGAN(<=)\n",
    "x= 2<=3\n",
    "print (x)\n",
    "x= 7/2<=6%2/1\n",
    "print (x)\n",
    "x=5<=7//2\n",
    "print (x)\n",
    "x= 3<2**45\n",
    "print (x)\n",
    "\n",
    "#SAMA DENGAN (==)\n",
    "x=4==4\n",
    "print (x)\n",
    "x=2==3\n",
    "print (x)\n",
    "x= 45%7==3/1\n",
    "print (x)\n",
    "x=99,9==99,9999999999999\n",
    "print (x)\n",
    "\n",
    "#TIDAK SAMA DENGAN (!=)\n",
    "x=2!=1\n",
    "print (x)\n",
    "x=5!=8\n",
    "print (x)\n",
    "x= 3!=5-2\n",
    "print (x)\n",
    "x= 3*7/3!=2**3\n",
    "print (x)"
   ]
  },
  {
   "cell_type": "markdown",
   "id": "1b647238",
   "metadata": {},
   "source": [
    "# OPERATOR LOGIKA DI PHYTON"
   ]
  },
  {
   "cell_type": "code",
   "execution_count": 18,
   "id": "c1f828bb",
   "metadata": {},
   "outputs": [
    {
     "name": "stdout",
     "output_type": "stream",
     "text": [
      "True\n",
      "False\n",
      "False\n",
      "False\n"
     ]
    }
   ],
   "source": [
    "#contoh 1:\n",
    "manggis=10\n",
    "mangga=15\n",
    "print (manggis>8 and mangga<20)\n",
    "\n",
    "print (manggis<8 and mangga<20)\n",
    "\n",
    "print (manggis<8 and mangga>20)\n",
    "\n",
    "print (manggis>8 and mangga>20)"
   ]
  },
  {
   "cell_type": "code",
   "execution_count": 37,
   "id": "391ab20d",
   "metadata": {},
   "outputs": [
    {
     "name": "stdout",
     "output_type": "stream",
     "text": [
      "False\n",
      "False\n",
      "True\n",
      "False\n",
      "False\n"
     ]
    }
   ],
   "source": [
    "#contoh 2:\n",
    "hasil= (5<=5)and (2+3==6)\n",
    "print (hasil)\n",
    "jurusan= (\"teknik informasi\"==\"teknologi informasi\")\n",
    "print (jurusan)\n",
    "#menggunakan not sebagai kasus\n",
    "hasil_2=not (10<10)\n",
    "print (hasil_2)\n",
    "hasil=not (2>=2)\n",
    "print (hasil)\n",
    "#menggabungkan 2 operator yaitu and dan or\n",
    "hasil=(\"duniaiinformasi\"==\"duniainformasi\") and (10<=8)or (1!=1)\n",
    "print (hasil)"
   ]
  },
  {
   "cell_type": "markdown",
   "id": "4b3678ca",
   "metadata": {},
   "source": [
    "# OPERATOR IF DI PHYTON"
   ]
  },
  {
   "cell_type": "code",
   "execution_count": 22,
   "id": "569fb5dc",
   "metadata": {},
   "outputs": [
    {
     "name": "stdout",
     "output_type": "stream",
     "text": [
      "Nilai anda berapa?99\n",
      "Anda mendapatkan nilai A\n",
      "Bagus sekali, selamat!!\n"
     ]
    }
   ],
   "source": [
    "#contoh 1, kasus menggunakan operator if\n",
    "nilai= float (input('Nilai anda berapa?'))\n",
    "if nilai>=80:\n",
    "    print (\"Anda mendapatkan nilai A\")\n",
    "    print (\"Bagus sekali, selamat!!\")\n",
    "if nilai<80 and nilai>=70:\n",
    "    print (\"Anda mendapatkan nilai B\")\n",
    "    print (\"Tingkatkan prestasimu!!\")\n",
    "if nilai<70 and nilai>=60:\n",
    "    print (\"Anda mendapatkan nilai C\")\n",
    "    print (\"Lain kali harus lebih baik!\")\n",
    "if nilai <60 and nilai>=50:\n",
    "    print (\"Anda mendaptkan nilai D\")\n",
    "    print (\"Jangan patah semangat, sampai jumpa tahun depan\")\n",
    "if nilai<50:\n",
    "    print (\"Anda mendapatkan nilai E\")\n",
    "    print (\"Jangan patah semangat, sampai jumpa tahun depan\")"
   ]
  },
  {
   "cell_type": "code",
   "execution_count": 20,
   "id": "6b565f6e",
   "metadata": {},
   "outputs": [
    {
     "name": "stdout",
     "output_type": "stream",
     "text": [
      "Nilai Anda berapa?44\n",
      "Anda mendapatkan nilai E\n",
      "Sampai jumpa tahun depan!\n"
     ]
    }
   ],
   "source": [
    "#cara lain (menggunakan if dan elif, serta else)\n",
    "nilai=float(input(\"Nilai Anda berapa?\"))\n",
    "if nilai >=80:\n",
    "    print (\"Anda mendapatkan nilai A\")\n",
    "    print (\"Bagus sekali, selamat!!\")\n",
    "elif nilai>=70:\n",
    "    print (\"Anda mendapatkan nilai B\")\n",
    "    print (\"Tingkatkan prestasimu!\")\n",
    "elif nilai>=60:\n",
    "    print (\"Anda mendapatkan nilai C\")\n",
    "    print (\"Lain kali harus lebih baik!\")\n",
    "elif nilai >=50:\n",
    "    print (\"Anda mendapatkan nilai D\")\n",
    "    print (\"Ulang lagi tahun depan\")\n",
    "else:\n",
    "    print (\"Anda mendapatkan nilai E\")\n",
    "    print (\"Sampai jumpa tahun depan!\")"
   ]
  },
  {
   "cell_type": "code",
   "execution_count": 25,
   "id": "12ad74e3",
   "metadata": {},
   "outputs": [
    {
     "name": "stdout",
     "output_type": "stream",
     "text": [
      "Berapakah tinggi anda?178\n",
      "Convert dari cm atau inci?cm\n",
      "Tinggi anda adalah= 70.078778 inci\n"
     ]
    }
   ],
   "source": [
    "#contoh kasus 2\n",
    "#program yang merubah tinggi badan seseorang dari inci ke cm arau cm ke inchi\n",
    "\n",
    "#menggunakan float karena tinggi badan bisa berupa desimal, contohnya 147,8 cm atau 70,334 inci\n",
    "tinggi=float(input(\"Berapakah tinggi anda?\"))\n",
    "cm_atau_inci=input(\"Convert dari cm atau inci?\")\n",
    "\n",
    "if cm_atau_inci.upper()=='CM':\n",
    "    tinggi=tinggi*0.393701\n",
    "    print(\"Tinggi anda adalah= \"+str (tinggi)+\" inci\")\n",
    "elif cm_atau_inci.upper()=='INCI':\n",
    "    tinggi=tinggi/0.393701\n",
    "    print (\"Tinggi anda adalah \"+str (tinggi)+\" cm\")"
   ]
  },
  {
   "cell_type": "code",
   "execution_count": null,
   "id": "593bfa4b",
   "metadata": {},
   "outputs": [],
   "source": [
    "#contoh kasus 3\n",
    "#menggunakan if dan elif\n",
    "angka=5\n",
    "if angka>0:\n",
    "    print (angka, \"adalah bilangan positif\")\n",
    "elif angka=0:\n",
    "    print (angka, \"bukan bilangan positif maupun negatif\")\n",
    "elif angka<0:\n",
    "    print (angka,\"adalah bilangan negatif\")"
   ]
  },
  {
   "cell_type": "code",
   "execution_count": 29,
   "id": "c1d30323",
   "metadata": {},
   "outputs": [
    {
     "name": "stdout",
     "output_type": "stream",
     "text": [
      "Masukkan umur anda= 45\n",
      "Anda adalah dewasa\n"
     ]
    }
   ],
   "source": [
    "#contoh kasus 4\n",
    "#menggunakan if, elif, dan else\n",
    "umur =int(input(\"Masukkan umur anda= \"))\n",
    "    \n",
    "if umur <=5:\n",
    "    print (\"Anda adalah balita\")\n",
    "elif umur<=12:\n",
    "    print (\"Anda adalah anak-anak\")\n",
    "elif umur<=17:\n",
    "    print (\"Anda adalah remaja\")\n",
    "elif umur<=30:\n",
    "    print (\"Anda adalah muda\")\n",
    "elif umur<=60:\n",
    "    print (\"Anda adalah dewasa\")\n",
    "else:\n",
    "    print (\"Anda adalah usia indah\")\n"
   ]
  },
  {
   "cell_type": "code",
   "execution_count": null,
   "id": "cf043d22",
   "metadata": {},
   "outputs": [],
   "source": []
  }
 ],
 "metadata": {
  "kernelspec": {
   "display_name": "Python 3 (ipykernel)",
   "language": "python",
   "name": "python3"
  },
  "language_info": {
   "codemirror_mode": {
    "name": "ipython",
    "version": 3
   },
   "file_extension": ".py",
   "mimetype": "text/x-python",
   "name": "python",
   "nbconvert_exporter": "python",
   "pygments_lexer": "ipython3",
   "version": "3.9.13"
  }
 },
 "nbformat": 4,
 "nbformat_minor": 5
}
