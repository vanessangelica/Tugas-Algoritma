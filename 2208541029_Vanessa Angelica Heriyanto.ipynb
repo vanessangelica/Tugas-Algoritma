{
 "cells": [
  {
   "cell_type": "code",
   "execution_count": 1,
   "id": "625ece3a",
   "metadata": {},
   "outputs": [
    {
     "name": "stdout",
     "output_type": "stream",
     "text": [
      "Saya Vanessa\n"
     ]
    }
   ],
   "source": [
    "#percobaan perintah print 1\n",
    "print (\"Saya Vanessa\")"
   ]
  },
  {
   "cell_type": "code",
   "execution_count": 2,
   "id": "bd75d61b",
   "metadata": {},
   "outputs": [
    {
     "name": "stdout",
     "output_type": "stream",
     "text": [
      "Ini kelas algoritma &struktur data.\n"
     ]
    }
   ],
   "source": [
    "#percobaan perintah print 2\n",
    "print (\"Ini kelas algoritma &struktur data.\")"
   ]
  },
  {
   "cell_type": "code",
   "execution_count": 3,
   "id": "9ec49fa1",
   "metadata": {},
   "outputs": [
    {
     "name": "stdout",
     "output_type": "stream",
     "text": [
      "Hello World!\n"
     ]
    }
   ],
   "source": [
    "#percobaan perintah print 3\n",
    "print (\"Hello World!\")"
   ]
  },
  {
   "cell_type": "code",
   "execution_count": 4,
   "id": "0f0ff335",
   "metadata": {},
   "outputs": [
    {
     "name": "stdout",
     "output_type": "stream",
     "text": [
      "Mahasiswa Matematika Udayana. \n"
     ]
    }
   ],
   "source": [
    "#percobaan perintah print namun menggunakan tanda petik satu\n",
    "print ('Mahasiswa Matematika Udayana. ')"
   ]
  },
  {
   "cell_type": "code",
   "execution_count": 5,
   "id": "6962078f",
   "metadata": {},
   "outputs": [
    {
     "name": "stdout",
     "output_type": "stream",
     "text": [
      "Angga Saputra\n"
     ]
    }
   ],
   "source": [
    "#percobaan print dengan menambahkan beberapa variabel yang dideklarasikan\n",
    "nama_depan=\"Angga\"\n",
    "nama_tengah=\" \"\n",
    "nama_belakang=\"Saputra\"\n",
    "print (nama_depan+nama_tengah+nama_belakang)"
   ]
  },
  {
   "cell_type": "code",
   "execution_count": 6,
   "id": "e2c56f55",
   "metadata": {},
   "outputs": [
    {
     "name": "stdout",
     "output_type": "stream",
     "text": [
      "Nama depan= Vanessa \n",
      "Nama tengah= Angelica \n",
      "Nama belakang= Heriyanto\n",
      "Nama Anda= Vanessa Angelica Heriyanto\n"
     ]
    }
   ],
   "source": [
    "# percobaan print dengan menambahkan beberapa nilai variabel dengan input data\n",
    "nama_1= input (\"Nama depan= \")\n",
    "nama_2= input (\"Nama tengah= \")\n",
    "nama_3= input (\"Nama belakang= \")\n",
    "print (\"Nama Anda= \"+str (nama_1) +str (nama_2)+str (nama_3))"
   ]
  },
  {
   "cell_type": "code",
   "execution_count": 7,
   "id": "3b6c1937",
   "metadata": {},
   "outputs": [
    {
     "name": "stdout",
     "output_type": "stream",
     "text": [
      "saya iseng\n"
     ]
    }
   ],
   "source": [
    "#hai hai, hari ini adalah hari senin.\n",
    "#makasih\n",
    "#okeh (percobaan menggunakan hashtag sebagai komentar, mencoba membuat baris baru untuk komentarnya)\n",
    "print ('saya iseng')"
   ]
  },
  {
   "cell_type": "code",
   "execution_count": 8,
   "id": "27396bf4",
   "metadata": {},
   "outputs": [
    {
     "name": "stdout",
     "output_type": "stream",
     "text": [
      "'Mahasiswa' adalah sebutan untuk orang yang sedang menempuh pendidikan di perguruan tinggi\n"
     ]
    }
   ],
   "source": [
    "#mencoba menggunakan tanda petik satu di dalam kalimat yang bertanda petik dua pada perintah print\n",
    "print (\"'Mahasiswa' adalah sebutan untuk orang yang sedang menempuh pendidikan di perguruan tinggi\")"
   ]
  },
  {
   "cell_type": "code",
   "execution_count": 9,
   "id": "3b9e7ebe",
   "metadata": {},
   "outputs": [
    {
     "name": "stdout",
     "output_type": "stream",
     "text": [
      "Kenapa Anda melakukan hal \"itu\"?\n"
     ]
    }
   ],
   "source": [
    "#mencoba menggunakan tanda petik dua di dalam kalimat yang bertanda petik satu pada perintah print\n",
    "print ('Kenapa Anda melakukan hal \"itu\"?')"
   ]
  },
  {
   "cell_type": "code",
   "execution_count": 10,
   "id": "c63caf88",
   "metadata": {},
   "outputs": [
    {
     "ename": "SyntaxError",
     "evalue": "invalid syntax (2391573042.py, line 2)",
     "output_type": "error",
     "traceback": [
      "\u001b[1;36m  File \u001b[1;32m\"C:\\Users\\USER\\AppData\\Local\\Temp\\ipykernel_12076\\2391573042.py\"\u001b[1;36m, line \u001b[1;32m2\u001b[0m\n\u001b[1;33m    print (\"Nama saya adalah \"Vanessa\"!!\")\u001b[0m\n\u001b[1;37m                              ^\u001b[0m\n\u001b[1;31mSyntaxError\u001b[0m\u001b[1;31m:\u001b[0m invalid syntax\n"
     ]
    }
   ],
   "source": [
    "#mencoba menggunakan tanda petik dua sebanyak dua kali dalam kalimat yang sama, apakah akan error?\n",
    "print (\"Nama saya adalah \"Vanessa\"!!\")\n",
    "#hasilnya error, karena tanda petik dua tidak bisa digunakan lebih dari 1 kali di dalam kalimat yang sama"
   ]
  },
  {
   "cell_type": "code",
   "execution_count": null,
   "id": "d111ad8e",
   "metadata": {},
   "outputs": [],
   "source": [
    "#mencoba menggunakan tanda petik satu sebanyak 2 kali dalam kalimat yang sama, kemungkinan akan error seperti percobaan sebelumnya\n",
    "print ('Nama saya adalah 'Vanessa'')\n",
    "#percobaan ternyata error karena kesalahan penggunaan tanda petik"
   ]
  },
  {
   "cell_type": "code",
   "execution_count": 11,
   "id": "0723b6b6",
   "metadata": {},
   "outputs": [
    {
     "name": "stdout",
     "output_type": "stream",
     "text": [
      "42\n",
      "5000\n",
      "210000\n"
     ]
    }
   ],
   "source": [
    "#mendeklarasikan beberapa nilai variabel lalu gunakan perintah print dan mengalikan nilai variabel tersebut untuk mendapatkan\n",
    "#nilai hasil yang dicari\n",
    "mahasiswa=42\n",
    "uang_di_dompet=5000\n",
    "print (mahasiswa)\n",
    "print (uang_di_dompet)\n",
    "print (mahasiswa*uang_di_dompet)"
   ]
  },
  {
   "cell_type": "code",
   "execution_count": 12,
   "id": "6aab9955",
   "metadata": {},
   "outputs": [
    {
     "name": "stdout",
     "output_type": "stream",
     "text": [
      "Masukkan nilai a = 5\n",
      "Masukkan nilai pembagi = 2\n",
      "Sisa hasil 5 dibagi 2 adalah 1\n"
     ]
    }
   ],
   "source": [
    "#mencoba menggunakan input data dan print, lalu digunakan untuk konsep modulo\n",
    "a= input (\"Masukkan nilai a = \")\n",
    "b=input (\"Masukkan nilai pembagi = \")\n",
    "c= int (a) % int (b)\n",
    "#menampilkan hasil sisa bagi dari nilai a dan b yang sudah diinput\n",
    "print (\"Sisa hasil \"+a+\" dibagi \"+str (b)+\" adalah \"+str (c))"
   ]
  },
  {
   "cell_type": "code",
   "execution_count": 7,
   "id": "11134573",
   "metadata": {},
   "outputs": [
    {
     "name": "stdout",
     "output_type": "stream",
     "text": [
      "Luas lingkaran adalah 153.86 cm^2\n"
     ]
    }
   ],
   "source": [
    "#menghitung luas lingkaran dari jari-jari yang sudah ditentukan\n",
    "jari_jari=7\n",
    "phi=3.14\n",
    "luas=float (phi)*int (jari_jari)*int(jari_jari)\n",
    "#menampilkan hasil luas lingkaran dengan perintah print\n",
    "print(\"Luas lingkaran adalah \"+str (luas)+\" cm^2\")"
   ]
  },
  {
   "cell_type": "code",
   "execution_count": 13,
   "id": "c788e6cb",
   "metadata": {},
   "outputs": [
    {
     "name": "stdout",
     "output_type": "stream",
     "text": [
      "Masukkan nilai dolar yang akan dikonversikan ke rupiah =5\n",
      "Nilai rupiah= Rp76875\n"
     ]
    }
   ],
   "source": [
    "#mencoba menggunakan tipe data int dan string, serta perintah print untuk pengaplikasian konversi dollar ke rupiah\n",
    "dollar= input (\"Masukkan nilai dolar yang akan dikonversikan ke rupiah =\")\n",
    "nilai_dollar=15375\n",
    "nilai_rupiah=int (dollar)*int(nilai_dollar)\n",
    "\n",
    "print (\"Nilai rupiah= Rp\"+str (nilai_rupiah))"
   ]
  },
  {
   "cell_type": "code",
   "execution_count": 6,
   "id": "107a28e2",
   "metadata": {},
   "outputs": [
    {
     "name": "stdout",
     "output_type": "stream",
     "text": [
      "Masukkan panjang= 3\n",
      "Masukkan lebar= 3\n",
      "Luas persegi panjang adalah 9 cm^2\n"
     ]
    }
   ],
   "source": [
    "#menghitung luas persegi panjang\n",
    "#data yang dibutuhkan didapatkan melalui input data\n",
    "panjang= input (\"Masukkan panjang= \")\n",
    "lebar= input (\"Masukkan lebar= \")\n",
    "luas_persegi_panjang= int (panjang)*int (lebar)\n",
    "#menampilkan hasil dengan print\n",
    "print (\"Luas persegi panjang adalah \"+str (luas_persegi_panjang)+\" cm^2\")"
   ]
  },
  {
   "cell_type": "code",
   "execution_count": 8,
   "id": "4ff07916",
   "metadata": {},
   "outputs": [
    {
     "name": "stdout",
     "output_type": "stream",
     "text": [
      "Masukkan panjang= 5\n",
      "Masukkan lebar= 2\n"
     ]
    },
    {
     "ename": "TypeError",
     "evalue": "can't multiply sequence by non-int of type 'str'",
     "output_type": "error",
     "traceback": [
      "\u001b[1;31m---------------------------------------------------------------------------\u001b[0m",
      "\u001b[1;31mTypeError\u001b[0m                                 Traceback (most recent call last)",
      "\u001b[1;32m~\\AppData\\Local\\Temp\\ipykernel_8412\\434958097.py\u001b[0m in \u001b[0;36m<module>\u001b[1;34m\u001b[0m\n\u001b[0;32m      2\u001b[0m \u001b[0mlebar\u001b[0m\u001b[1;33m=\u001b[0m \u001b[0minput\u001b[0m \u001b[1;33m(\u001b[0m\u001b[1;34m\"Masukkan lebar= \"\u001b[0m\u001b[1;33m)\u001b[0m\u001b[1;33m\u001b[0m\u001b[1;33m\u001b[0m\u001b[0m\n\u001b[0;32m      3\u001b[0m \u001b[1;31m#menampilkan hasil dengan print\u001b[0m\u001b[1;33m\u001b[0m\u001b[1;33m\u001b[0m\u001b[0m\n\u001b[1;32m----> 4\u001b[1;33m \u001b[0mprint\u001b[0m \u001b[1;33m(\u001b[0m\u001b[1;34m\"Luas persegi panjang adalah \"\u001b[0m\u001b[1;33m,\u001b[0m\u001b[0mpanjang\u001b[0m\u001b[1;33m*\u001b[0m\u001b[0mlebar\u001b[0m\u001b[1;33m)\u001b[0m\u001b[1;33m\u001b[0m\u001b[1;33m\u001b[0m\u001b[0m\n\u001b[0m",
      "\u001b[1;31mTypeError\u001b[0m: can't multiply sequence by non-int of type 'str'"
     ]
    }
   ],
   "source": [
    "#(GAGAL), cara ini tidak dapat digunakan untuk mencari luasnya, karena harus dideklarasikan terlebih dahulu di awal\n",
    "panjang= input (\"Masukkan panjang= \")\n",
    "lebar= input (\"Masukkan lebar= \")\n",
    "#menampilkan hasil dengan print\n",
    "print (\"Luas persegi panjang adalah \",panjang*lebar)"
   ]
  },
  {
   "cell_type": "code",
   "execution_count": 15,
   "id": "f971333a",
   "metadata": {},
   "outputs": [
    {
     "name": "stdout",
     "output_type": "stream",
     "text": [
      "Siapa nama anda?vanessa\n"
     ]
    }
   ],
   "source": [
    "#percobaan input data namun memisahkan datanya, mengecek apakah hasil printnya tetap bisa beroperasi (1)\n",
    "nama=input (\"Siapa nama anda?\")"
   ]
  },
  {
   "cell_type": "code",
   "execution_count": 16,
   "id": "a14cbc02",
   "metadata": {},
   "outputs": [
    {
     "name": "stdout",
     "output_type": "stream",
     "text": [
      "Apa nama kegiatan Anda sekarang?makan\n"
     ]
    }
   ],
   "source": [
    "#percobaan input data namun memisahkan datanya, mengecek apakah hasil printnya tetap bisa beroperasi (2)\n",
    "kegiatan = input(\"Apa nama kegiatan Anda sekarang?\")"
   ]
  },
  {
   "cell_type": "code",
   "execution_count": 17,
   "id": "81e3f20e",
   "metadata": {},
   "outputs": [
    {
     "name": "stdout",
     "output_type": "stream",
     "text": [
      "Semangat makannya yaa, vanessa !!\n"
     ]
    }
   ],
   "source": [
    "#percobaan input data namun memisahkan datanya, mengecek apakah hasil printnya tetap bisa beroperasi (3)\n",
    "#ternyata percobaan berhasil, data yang dideklarasikan di atas ini juga bisa dioperasikan, bahkan yg jauh sekalipun\n",
    "print(\"Semangat \"+ kegiatan +\"nya yaa, \"+ nama +\" !!\")\n"
   ]
  },
  {
   "cell_type": "code",
   "execution_count": 18,
   "id": "b12025eb",
   "metadata": {},
   "outputs": [
    {
     "name": "stdout",
     "output_type": "stream",
     "text": [
      "Siapa nama Anda?vanessa\n",
      "Apa nama kegiatan Anda sekarang?buat tugas\n",
      "Semangat buat tugasnya yaa, vanessa !!\n"
     ]
    }
   ],
   "source": [
    "#contoh input yang semua datanya digabungkan menjadi satu lalu print\n",
    "nama = input(\"Siapa nama Anda?\")\n",
    "kegiatan = input(\"Apa nama kegiatan Anda sekarang?\")\n",
    "print(\"Semangat \"+ kegiatan +\"nya yaa, \"+ nama +\" !!\")"
   ]
  },
  {
   "cell_type": "code",
   "execution_count": 19,
   "id": "bb93f82c",
   "metadata": {},
   "outputs": [
    {
     "name": "stdout",
     "output_type": "stream",
     "text": [
      "Nama Anda= vanessa\n",
      "vanessa, semangat ya!! <3333\n"
     ]
    }
   ],
   "source": [
    "#contoh lain dari penggunaan input data lalu perintah print\n",
    "nama= input (\"Nama Anda= \")\n",
    "print (nama+\", semangat ya!! <3333\")"
   ]
  },
  {
   "cell_type": "code",
   "execution_count": null,
   "id": "bd291a2a",
   "metadata": {},
   "outputs": [],
   "source": [
    "#sebelumnya terdapat error di bagian print karena saya kurang teliti dan lupa menambahkan tanda +,\n",
    "# saya jg br paham mengenai cara merubah tipe data string integer\n",
    "dompet=input (\"Isi dompet anda= \")\n",
    "tabungan= input (\"Isi tabungan anda= \")\n",
    "total_uang= int (dompet)+int (tabungan)\n",
    "print (\"total uang anda adalah \"+str (total_uang))"
   ]
  },
  {
   "cell_type": "code",
   "execution_count": 20,
   "id": "ba389519",
   "metadata": {},
   "outputs": [
    {
     "name": "stdout",
     "output_type": "stream",
     "text": [
      "vanessa\n",
      "A\n",
      "Udayana\n",
      "Mahasiswa kelas A bernama vanessa adalah mahasiswa Udayana angkatan 2022\n"
     ]
    }
   ],
   "source": [
    "#menggunakan data string di deklarasi lalu gunakan perintah print\n",
    "nama_mahasiswa=\"vanessa\"\n",
    "kelas_mahasiswa=\"A\"\n",
    "universitas=\"Udayana\"\n",
    "hasil_mahasiswa=(\"Mahasiswa kelas \"+kelas_mahasiswa+\" bernama \"+nama_mahasiswa+\" adalah mahasiswa Udayana angkatan 2022\")\n",
    "print (nama_mahasiswa)\n",
    "print (kelas_mahasiswa)\n",
    "print (universitas)\n",
    "print (hasil_mahasiswa)"
   ]
  },
  {
   "cell_type": "code",
   "execution_count": 21,
   "id": "9da93082",
   "metadata": {},
   "outputs": [
    {
     "name": "stdout",
     "output_type": "stream",
     "text": [
      "Siapa nama Anda?vanessa\n",
      "Nilai terakhir anda?100\n",
      "Hai, vanessa! nilai Anda adalah sebesar 100\n"
     ]
    }
   ],
   "source": [
    "#contoh input data lainnya, dimana salah satu datanya menginput suatu angka\n",
    "nama_mahasiswa=input (\"Siapa nama Anda?\")\n",
    "nilai_anda=input (\"Nilai terakhir anda?\")\n",
    "print (\"Hai, \"+nama_mahasiswa+\"! nilai Anda adalah sebesar \"+nilai_anda)"
   ]
  },
  {
   "cell_type": "code",
   "execution_count": 22,
   "id": "57c022ab",
   "metadata": {},
   "outputs": [
    {
     "name": "stdout",
     "output_type": "stream",
     "text": [
      "Berapa skor anda?49\n",
      "Masukkan NIM anda2208541029\n",
      "Anda adalah mahasiswa dengan NIM 2208541029 dengan skor 49\n"
     ]
    }
   ],
   "source": [
    "#ternyata variabel kosong yang sudah dideklarasikan di atas jangan dipakai kembali di selanjutnya, karena \n",
    "#nilai variabel yang akan terpanggil adalah nilai variabel yang sudah tertulis duluan di percobaan sebelumnya\n",
    "#sehingga saya tidak menggunakan kata \"nilai\", melainkan saya menggunakan kata \"skor\" agar tidak menggunakan namavariabel kosong\n",
    "#yang sama\n",
    "skor=input (\"Berapa skor anda?\")\n",
    "nim= input (\"Masukkan NIM anda\")\n",
    "print (\"Anda adalah mahasiswa dengan NIM \"+nim+ \" dengan skor \"+skor )"
   ]
  },
  {
   "cell_type": "code",
   "execution_count": 23,
   "id": "ea9e358e",
   "metadata": {},
   "outputs": [
    {
     "data": {
      "text/plain": [
       "str"
      ]
     },
     "execution_count": 23,
     "metadata": {},
     "output_type": "execute_result"
    }
   ],
   "source": [
    "#mencoba cara mencari tahu suatu tipe data\n",
    "type (skor)"
   ]
  },
  {
   "cell_type": "code",
   "execution_count": 24,
   "id": "ed0d085c",
   "metadata": {},
   "outputs": [
    {
     "data": {
      "text/plain": [
       "str"
      ]
     },
     "execution_count": 24,
     "metadata": {},
     "output_type": "execute_result"
    }
   ],
   "source": [
    "#mencoba cara mencari tahu suatu tipe data\n",
    "type(nim)"
   ]
  },
  {
   "cell_type": "code",
   "execution_count": 29,
   "id": "5c988a07",
   "metadata": {},
   "outputs": [
    {
     "data": {
      "text/plain": [
       "int"
      ]
     },
     "execution_count": 29,
     "metadata": {},
     "output_type": "execute_result"
    }
   ],
   "source": [
    "type (uang_di_dompet)"
   ]
  },
  {
   "cell_type": "code",
   "execution_count": 30,
   "id": "8dddd723",
   "metadata": {},
   "outputs": [
    {
     "name": "stdout",
     "output_type": "stream",
     "text": [
      "Masukkan bilangan pertama= 3\n",
      "Masukkan bilangan kedua= 2\n",
      "Jumlah kedua bilangan adalah 5.0\n"
     ]
    }
   ],
   "source": [
    "bilangan_satu=input (\"Masukkan bilangan pertama= \")\n",
    "bilangan_kedua=input (\"Masukkan bilangan kedua= \")\n",
    "jumlah=float (bilangan_satu)+float (bilangan_kedua)\n",
    "print (\"Jumlah kedua bilangan adalah \"+str (jumlah))"
   ]
  },
  {
   "cell_type": "code",
   "execution_count": 40,
   "id": "d79d0def",
   "metadata": {},
   "outputs": [
    {
     "ename": "ValueError",
     "evalue": "invalid literal for int() with base 10: 'Masukkan alas segitiga= '",
     "output_type": "error",
     "traceback": [
      "\u001b[1;31m---------------------------------------------------------------------------\u001b[0m",
      "\u001b[1;31mValueError\u001b[0m                                Traceback (most recent call last)",
      "\u001b[1;32m~\\AppData\\Local\\Temp\\ipykernel_12076\\2271431975.py\u001b[0m in \u001b[0;36m<module>\u001b[1;34m\u001b[0m\n\u001b[0;32m      3\u001b[0m \u001b[0mtinggi\u001b[0m\u001b[1;33m=\u001b[0m\u001b[0minput\u001b[0m\u001b[1;33m=\u001b[0m\u001b[1;33m(\u001b[0m\u001b[1;34m\"Masukkan tinggi segitiga= \"\u001b[0m\u001b[1;33m)\u001b[0m\u001b[1;33m\u001b[0m\u001b[1;33m\u001b[0m\u001b[0m\n\u001b[0;32m      4\u001b[0m \u001b[1;31m#rumus dari luas segitiga:\u001b[0m\u001b[1;33m\u001b[0m\u001b[1;33m\u001b[0m\u001b[0m\n\u001b[1;32m----> 5\u001b[1;33m \u001b[0mluas\u001b[0m\u001b[1;33m=\u001b[0m\u001b[0mint\u001b[0m\u001b[1;33m(\u001b[0m\u001b[0malas\u001b[0m\u001b[1;33m)\u001b[0m\u001b[1;33m*\u001b[0m\u001b[0mint\u001b[0m\u001b[1;33m(\u001b[0m\u001b[0mtinggi\u001b[0m\u001b[1;33m)\u001b[0m\u001b[1;33m/\u001b[0m\u001b[1;36m2\u001b[0m\u001b[1;33m\u001b[0m\u001b[1;33m\u001b[0m\u001b[0m\n\u001b[0m\u001b[0;32m      6\u001b[0m \u001b[1;31m#maka hasilny akan ditampilkan sbg berikut\u001b[0m\u001b[1;33m\u001b[0m\u001b[1;33m\u001b[0m\u001b[0m\n\u001b[0;32m      7\u001b[0m \u001b[0mprint\u001b[0m \u001b[1;33m(\u001b[0m\u001b[1;34m\"Luas segitiga adalah \"\u001b[0m\u001b[1;33m+\u001b[0m\u001b[0mstr\u001b[0m \u001b[1;33m(\u001b[0m\u001b[0mluas\u001b[0m\u001b[1;33m)\u001b[0m\u001b[1;33m)\u001b[0m\u001b[1;33m\u001b[0m\u001b[1;33m\u001b[0m\u001b[0m\n",
      "\u001b[1;31mValueError\u001b[0m: invalid literal for int() with base 10: 'Masukkan alas segitiga= '"
     ]
    }
   ],
   "source": [
    "#mencoba menghitung luas segitiga \n",
    "alas=input=(\"Masukkan alas segitiga= \")\n",
    "tinggi=input=(\"Masukkan tinggi segitiga= \")\n",
    "#rumus dari luas segitiga:\n",
    "luas=int(alas)*int(tinggi)/2\n",
    "#maka hasilny akan ditampilkan sbg berikut\n",
    "print (\"Luas segitiga adalah \"+str (luas))\n",
    "\n",
    "#namun masih terdapat kesalahan yang saya blum dapat temukan"
   ]
  },
  {
   "cell_type": "code",
   "execution_count": 32,
   "id": "8518c692",
   "metadata": {},
   "outputs": [
    {
     "name": "stdout",
     "output_type": "stream",
     "text": [
      "Vanessa adalah seorang guru di SD Pertiwi.\n"
     ]
    }
   ],
   "source": [
    "#contoh dari formatted string\n",
    "nama=\"Vanessa\"\n",
    "pekerjaan= \"guru\"\n",
    "institusi= \"SD Pertiwi\"\n",
    "print (nama+\" adalah seorang \"+pekerjaan+\" di \"+institusi+\".\")"
   ]
  },
  {
   "cell_type": "code",
   "execution_count": 33,
   "id": "a8217ba6",
   "metadata": {},
   "outputs": [
    {
     "name": "stdout",
     "output_type": "stream",
     "text": [
      "Vanessa adalah seorang guru di SD Pertiwi.\n"
     ]
    }
   ],
   "source": [
    "#formatted string\n",
    "print (f'{nama} adalah seorang {pekerjaan} di {institusi}.')"
   ]
  },
  {
   "cell_type": "code",
   "execution_count": 34,
   "id": "6840ef38",
   "metadata": {},
   "outputs": [
    {
     "name": "stdout",
     "output_type": "stream",
     "text": [
      "Vanessa adalah seorang guru di SD Pertiwi.\n"
     ]
    }
   ],
   "source": [
    "#formatted string\n",
    "print (f\"{nama} adalah seorang {pekerjaan} di {institusi}.\")"
   ]
  },
  {
   "cell_type": "code",
   "execution_count": 35,
   "id": "b1605dab",
   "metadata": {},
   "outputs": [
    {
     "name": "stdout",
     "output_type": "stream",
     "text": [
      "amelie memesan 2 kopi dan 5 gelas susu\n"
     ]
    }
   ],
   "source": [
    "#percobaan lain dari formatted string\n",
    "nama_pelanggan=\"amelie\"\n",
    "kopi=2\n",
    "susu=5\n",
    "print (f\"{ nama_pelanggan } memesan { kopi } kopi dan { susu } gelas susu\")"
   ]
  },
  {
   "cell_type": "code",
   "execution_count": null,
   "id": "f163e257",
   "metadata": {},
   "outputs": [],
   "source": []
  },
  {
   "cell_type": "code",
   "execution_count": null,
   "id": "5a104fcf",
   "metadata": {},
   "outputs": [],
   "source": []
  }
 ],
 "metadata": {
  "kernelspec": {
   "display_name": "Python 3 (ipykernel)",
   "language": "python",
   "name": "python3"
  },
  "language_info": {
   "codemirror_mode": {
    "name": "ipython",
    "version": 3
   },
   "file_extension": ".py",
   "mimetype": "text/x-python",
   "name": "python",
   "nbconvert_exporter": "python",
   "pygments_lexer": "ipython3",
   "version": "3.9.13"
  }
 },
 "nbformat": 4,
 "nbformat_minor": 5
}
