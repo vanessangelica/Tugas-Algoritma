{
 "cells": [
  {
   "cell_type": "markdown",
   "id": "905e24d6",
   "metadata": {},
   "source": [
    "# LIST 2 DIMENSI"
   ]
  },
  {
   "cell_type": "code",
   "execution_count": null,
   "id": "36201b7f",
   "metadata": {},
   "outputs": [],
   "source": [
    "List 2 dimensi termasuk dalam list multi dimensi. \n",
    "Biasanya digunakan untuk menyimpan struktur data yang kompleks seperti tabel, matriks, grapfik, tree."
   ]
  },
  {
   "cell_type": "code",
   "execution_count": null,
   "id": "72f2f304",
   "metadata": {},
   "outputs": [],
   "source": [
    "#Contoh list 2 dimensi, yaitu list makanan:\n",
    "list_makanan= [\n",
    "    ['seblak','pink tempong','keripik kentang'],\n",
    "    ['salad buah','kacang','semangka'],\n",
    "    ['es campur','es kepal', 'es cincau']\n",
    "]\n",
    "#Cara mengakses list multidimensi \n",
    "print (list_makanan[1]) #untuk memanggil baris ke-1\n",
    "print (list_makanan[1][2])  #untuk memanggil elemen list dari baris pertama kolom kedua, yaitu semangka\n",
    "print (list_makanan [1][2]+'dan'+list_makanan [1][1])#memanggil 2 elemen list multidimensi yang berbeda\n",
    "\n",
    "#mencetak suatu kalimat dengan memanggil elemen pada baris ke-0\n",
    "print ('Makanan berikut adalah makanan favorit saya '+ str(list_makanan[0]))\n",
    "#mencetak suatu kalimat dengan memanggil elemen pada baris ke-1\n",
    "print ('Makanan berikut tergolong makanan yang sehat '+str (list_makanan[1])) \n",
    "#mencetak suatu kalimat dengan memanggil elemen pada baris ke-2\n",
    "print ('Makanan berikut adalah makanan yang cocok untuk berbuka puasa '+str(list_makanan[2])) \n",
    "\n"
   ]
  },
  {
   "cell_type": "code",
   "execution_count": null,
   "id": "4dbb7e0a",
   "metadata": {},
   "outputs": [],
   "source": [
    "#memanggil semua elemen yang ada dalam matriks satu per satu \n",
    "for menu in list_makanan:\n",
    "    for makanan in menu:\n",
    "        print (makanan)"
   ]
  },
  {
   "cell_type": "code",
   "execution_count": null,
   "id": "4404538d",
   "metadata": {},
   "outputs": [],
   "source": [
    "#mengganti elemen pada kolom dan baris tertentu dengan elemen lain\n",
    "list_makanan [2][1]= 'sop buah'\n",
    "print (list_makanan[2][1]) #maka elemen pada baris ke-2 dan kolom pertama dari 'es kepal' menjadi 'sop buah'\n",
    "\n",
    "#maka pada saat mencetak kembali list tersebut, list yang muncul adalh list yang sudah update dengan perubahan elemen \n",
    "#yang dilakukan sebelumnya\n",
    "print (list_makanan)"
   ]
  },
  {
   "cell_type": "code",
   "execution_count": null,
   "id": "201447fd",
   "metadata": {},
   "outputs": [],
   "source": [
    "#pemanggilan list matriks yang sudah final, yaitu list_makanan\n",
    "list_makanan"
   ]
  },
  {
   "cell_type": "code",
   "execution_count": null,
   "id": "1653e4ac",
   "metadata": {},
   "outputs": [],
   "source": [
    "#CONTOH LIST MATRIKS 2\n",
    "\n",
    "#kolom adalah baris yang horizontal, sedangkan baris adalah baris yang vertikal\n",
    "#menuliskan angka sebagai elemen pada matriks\n",
    "matrik=[\n",
    "    [1,2,3,4],\n",
    "    [5,6,7,8],\n",
    "    [9,10,11,12],\n",
    "    [13,14,15,16]\n",
    "]\n",
    "print (matrik)"
   ]
  },
  {
   "cell_type": "code",
   "execution_count": null,
   "id": "3b99a9ee",
   "metadata": {},
   "outputs": [],
   "source": [
    "#memanggil elemen ada matriks yang ada pada baris pertama\n",
    "print (matrik[1])\n",
    "\n",
    "#memanggil elemen pada baris pertama dan kolom kedua\n",
    "print (matrik [1][2])\n",
    "\n",
    "#memanggil elemen pada baris kedua\n",
    "print (matrik [2])\n",
    "\n",
    "#memanggil elemen matriks yang berada pada baris 0 hingga 2\n",
    "matrik [0:2]\n",
    "\n",
    "#mengganti elemen pada baris pertama kolom kedua dengan elemen lain yaitu angka 100\n",
    "matrik[1][2]=100\n",
    "print (matrik[1][2]) #mencetak hasilnya\n",
    "\n",
    "#mengganti elemen pada baris kedua kolom ketiga dengan elemen lain yaitu angka 22\n",
    "matrik[2][3]=22\n",
    "print (matrik[2][3]) #mencetak hasilnya\n",
    "\n",
    "#sehingga setelah mengganti beberapa elemen di atas, maka matriks akan menjadi sbb:\n",
    "print (matrik)"
   ]
  },
  {
   "cell_type": "code",
   "execution_count": null,
   "id": "d6f014b0",
   "metadata": {},
   "outputs": [],
   "source": [
    "#menggabungkan elemen matrik baris ke0 sampai ke2 dan elemen matrik baris ke-1\n",
    "print (matrik [0:2]+matrik [1])\n",
    "\n",
    "#menulis elemen yang ada pada baris ke-1 sebanyak 2 kali\n",
    "print (matrik[1]*2)\n",
    "\n",
    "#elemen baris ke0 kolom kedua ditambah dengan angka 2\n",
    "print (matrik [0][2]+2)\n",
    "\n",
    "#menggabungkan hasil elemen matriks yang dijumlahkan dengan 2 sebelumnya dengan elemen matriks pada baris ke-1\n",
    "print ('Angka favorit saya adalah sbb '+ str (matrik[0][2])+ str (matrik[1]))"
   ]
  },
  {
   "cell_type": "code",
   "execution_count": null,
   "id": "d6ba5c26",
   "metadata": {},
   "outputs": [],
   "source": [
    "#CONTOH LIST 2 DIMENSI 3\n",
    "\n",
    "#penulisan yang tiap barisnya ditulis secara mendatar\n",
    "matrik_29=[[1,2,3,4],[5,6,7,8],[9,10,11,12]]\n",
    "print (matrik_29)\n",
    "#ternyata matriks juga dapat ditulis secara horizontal\n",
    "\n",
    "#memanggil elemen pada matrik_29 pada baris ke-2\n",
    "print (matrik_29[2])\n",
    "\n",
    "#memanggil elemen pada matrik_29 pada baris ke-2 kolom ke-1\n",
    "print (matrik_29[2][1])"
   ]
  },
  {
   "cell_type": "code",
   "execution_count": null,
   "id": "e90cac34",
   "metadata": {},
   "outputs": [],
   "source": [
    "#mencetak baris dan mencetak kolom yang ada dalam baris\n",
    "for baris in matrik: #mencetak tiap elemen pada baris\n",
    "    print(baris)\n",
    "    for kolom in baris: #setelah berhasilmencetak baris tsb, elemen-elem yang ada di baris tsb diprint satu per satu \n",
    "                        #secara menurun atau vertikal\n",
    "        print (kolom)\n",
    "        \n",
    "        #lalu sistem akan terus dijalankan sampai elemen yang ada pada baris terakhir telah dicetak\n",
    "        \n",
    "        \n",
    "        \n",
    "#sama dengan proses sebelumnya, namun kolom diganti baris, dan baris juga diganti dengan kolom.\n",
    "for kolom in matrik:\n",
    "    print(kolom)\n",
    "    for baris in kolom:\n",
    "        print (baris)"
   ]
  },
  {
   "cell_type": "markdown",
   "id": "baf2a3a3",
   "metadata": {},
   "source": [
    "# TUPLES"
   ]
  },
  {
   "cell_type": "code",
   "execution_count": null,
   "id": "4b7ceefd",
   "metadata": {},
   "outputs": [],
   "source": [
    "Tuple adalah tipe data di phyton yang tidak dapat diubah atau dimodifikasi lagi. \n",
    "Tipe data tuple bersifat terurut.\n",
    "Tipe data ini dapat diakses menggunakan indeks."
   ]
  },
  {
   "cell_type": "code",
   "execution_count": 7,
   "id": "00429f01",
   "metadata": {},
   "outputs": [
    {
     "name": "stdout",
     "output_type": "stream",
     "text": [
      "(0, 1, 1, 3, 4, 5)\n",
      "0\n",
      "(0, 1, 1)\n",
      "0\n",
      "1\n",
      "1\n"
     ]
    }
   ],
   "source": [
    "#CONTOH TIPE DATA TUPLE\n",
    "\n",
    "#tipe data tuple membolehkan adanya elemen yang double dalam satu tuple, cntohnya di sini adalah angka 1\n",
    "angka=(0,1,1,3,4,5)  #tipe data tuple tidak menggunakan kurung siku, melainkan kurung biasa\n",
    "print (angka) #mencetak semua elemen yang ada di tuple\n",
    "print (angka[0]) #memanggil elemen ke-0\n",
    "print (angka[0:3]) #memanggil elemen ke0 sampai ke3\n",
    "\n",
    "\n",
    "#untuk semua elemen dalam list yaitu elemen 0 sampai 3, akan dicetak satu per satu\n",
    "for isi in angka [0:3]:\n",
    "    print (isi)"
   ]
  },
  {
   "cell_type": "code",
   "execution_count": null,
   "id": "1e514ae4",
   "metadata": {},
   "outputs": [],
   "source": [
    "#Berikut adalah bukti bahwa perintah di bawah ini tidak dapat dijalankan karena \n",
    "#sifat tuple yang tidak dapat dimodifikasi\n",
    "\n",
    "print (angka [0]=10) #mengganti elemen tertentu dengan elemen lain\n",
    "\n",
    "print (angka.append(10))#menambahkan elemen\n",
    "\n",
    "print (angka.remove(5)) #menghilangkan suatu elemen\n",
    "\n",
    "#jika tuple dapat diubah ataupun dimodifikasi, maka kemungkinan ada kesalahan dalam membuat kode prorgramnya"
   ]
  },
  {
   "cell_type": "code",
   "execution_count": 8,
   "id": "4bde636b",
   "metadata": {},
   "outputs": [
    {
     "name": "stdout",
     "output_type": "stream",
     "text": [
      "2\n",
      "3\n",
      "6\n"
     ]
    }
   ],
   "source": [
    "#Berikut adalah perintah yang dapat dijalankan pada tipe data tuple\n",
    "\n",
    "#Contoh tuple yang digunakan:\n",
    "angka=(0,1,1,3,4,5)\n",
    "\n",
    "#menghitung berapa banyak angka  1 yang terkandung dalam tuple\n",
    "print (angka.count (1)) \n",
    "\n",
    "#memberi tahu index suatu elemen, di sini adalah index elemen ke-3 pada tuple \n",
    "print (angka.index(3)) \n",
    "\n",
    "#Mencetak berapa banyak elemen yang ada dalam tuple\n",
    "print (len(angka))"
   ]
  },
  {
   "cell_type": "code",
   "execution_count": 5,
   "id": "085da100",
   "metadata": {},
   "outputs": [
    {
     "data": {
      "text/plain": [
       "2"
      ]
     },
     "execution_count": 5,
     "metadata": {},
     "output_type": "execute_result"
    }
   ],
   "source": [
    "#mencoba meletakkan angka 3 sebanyak 2 kali, mencari tau di index manakah angka3 akan ditulis\n",
    "angka=(1,2,3,3,4,4,5,5,5) #angka 3 diletakkan pada elemen ke2 dan 3\n",
    "angka.index (3) #index elemen angka 3 yang diprint adalah yang lebih awal"
   ]
  },
  {
   "cell_type": "code",
   "execution_count": 6,
   "id": "cb038975",
   "metadata": {},
   "outputs": [
    {
     "data": {
      "text/plain": [
       "1"
      ]
     },
     "execution_count": 6,
     "metadata": {},
     "output_type": "execute_result"
    }
   ],
   "source": [
    "#mencoba meletakkan angka dengan letak yang lebih berjauhan yaitu salahh satu elemennya di belakang\n",
    "angka=(1,3,2,4,5,3) \n",
    "angka.index(3) #namun tetap elemen yang paling awal lah yang indexnya akan ditulis"
   ]
  },
  {
   "cell_type": "code",
   "execution_count": 33,
   "id": "57875647",
   "metadata": {},
   "outputs": [
    {
     "name": "stdout",
     "output_type": "stream",
     "text": [
      "<class 'tuple'>\n",
      "('apel', 'apel', 'apel', 'apel')\n",
      "<class 'str'>\n"
     ]
    }
   ],
   "source": [
    "#Membuat tuple namun isinya hanyalah 1 elemen\n",
    "buah=('apel',) ##untuk membuat tuple berelemen satu, kita harus meletakkan koma setelahnya agar phyton dapat mengenali\n",
    "                #bahwa ini adalah sebuah tuple\n",
    "print (type (buah))  #dikenali sebagai tuple\n",
    "\n",
    "#membuat repetisi dengan tuple berelemen 1\n",
    "test= buah*4 #isi pada tuple buah akan mengelami repetisi sebanyak 4 kali\n",
    "print (test)\n",
    "\n",
    "#contoh bukan tuple\n",
    "anjing =('bearnice') #tanpa meletakkan koma\n",
    "print (type(anjing)) #dikenali sebagai tipe data string\n",
    "\n"
   ]
  },
  {
   "cell_type": "code",
   "execution_count": 19,
   "id": "70db8818",
   "metadata": {},
   "outputs": [
    {
     "name": "stdout",
     "output_type": "stream",
     "text": [
      "<class 'tuple'>\n",
      "<class 'tuple'>\n",
      "<class 'tuple'>\n"
     ]
    }
   ],
   "source": [
    "#TUPLE DAPAT BERUPA BERBAGAI MACAM TIPE DATA:\n",
    "#di antaranya ada string, int, bool\n",
    "\n",
    "tuple_1=('apel','pisang','durian')\n",
    "print (type(tuple_1))\n",
    "\n",
    "tuple_2= (1,2,3,4,5,6,7,8,9,0)\n",
    "print (type(tuple_2))\n",
    "\n",
    "tuple_3=(True, False, False)\n",
    "print (type(tuple_3))\n",
    "\n",
    "#semua terbukti merupakan tipe data tuple"
   ]
  },
  {
   "cell_type": "code",
   "execution_count": 20,
   "id": "b7072880",
   "metadata": {},
   "outputs": [
    {
     "name": "stdout",
     "output_type": "stream",
     "text": [
      "<class 'tuple'>\n"
     ]
    }
   ],
   "source": [
    "#sebuah tuple dapat memuat berbagai macam tipe data sekaligus.\n",
    "contoh=( False, \"nana\",123, \"True\", True, 1)#menggabungkan tipe data bool, string, dan int secara bersamaan\n",
    "print (type(contoh)) #dikenali sebagai tuple"
   ]
  },
  {
   "cell_type": "code",
   "execution_count": 22,
   "id": "e9adb116",
   "metadata": {},
   "outputs": [
    {
     "name": "stdout",
     "output_type": "stream",
     "text": [
      "('makan', 'minum', 'tidur')\n"
     ]
    }
   ],
   "source": [
    "#kita juga dapat menggunakan pembangun tuple () untuk membuat sebuah tuple.\n",
    "tuple_29= tuple((\"makan\",\"minum\",\"tidur\"))  #gunakan double kurung\n",
    "print (tuple_29)"
   ]
  },
  {
   "cell_type": "code",
   "execution_count": 27,
   "id": "611fb9ef",
   "metadata": {},
   "outputs": [
    {
     "name": "stdout",
     "output_type": "stream",
     "text": [
      "tuple_1[0]:  apel\n",
      "tuple_2 [1] 2\n"
     ]
    }
   ],
   "source": [
    "#cara mengakses nilai tuple\n",
    "#gunakan kurung siku untuk mengiris beserta indeks untuk mendapatkan nilai yang tersedia pada indeks tsb.\n",
    "tuple_1=('apel','pisang','durian')\n",
    "tuple_2= (1,2,3,4,5,6,7,8,9,0)\n",
    "\n",
    "print (\"tuple_1[0]: \", tuple_1[0]) #memanggil elemen ke-0 pada tuple 1 dan menambahkan kalimat pendukung\n",
    "print (\"tuple_2 [1]\",tuple_2[1]) #memanggil elemen ke-1 pada tuple 2 dan menambahkan kalimat pendukung"
   ]
  },
  {
   "cell_type": "code",
   "execution_count": 28,
   "id": "9b2fb86f",
   "metadata": {},
   "outputs": [
    {
     "name": "stdout",
     "output_type": "stream",
     "text": [
      "(12, 34, 56, 78, 90, 'abc', 'efg', 'hij')\n"
     ]
    }
   ],
   "source": [
    "#UPDATE NILAI DALAM TUPLE PHYTON\n",
    "\n",
    "contoh_1=(12,34,56,78,90)\n",
    "contoh_2=('abc','efg','hij')\n",
    "#Karena nilai tuple tidak dapat diubah atau dimodifikasi, maka buatlah tuple baru seperti berikut:\n",
    "#tuple yang baru adalah tuple yang menggabungkan kedua tuple sebelumnya\n",
    "contoh_3= contoh_1+contoh_2\n",
    "print (contoh_3)"
   ]
  },
  {
   "cell_type": "code",
   "execution_count": 32,
   "id": "97c10131",
   "metadata": {},
   "outputs": [
    {
     "name": "stdout",
     "output_type": "stream",
     "text": [
      "('fisika', 'matematika', 'kimia')\n",
      "Setelah menggunakan statement del pada tuple, hasilnya:  ('geometri analitik', 'algoritma dan struktur data', 'aljabar linear elementer')\n"
     ]
    }
   ],
   "source": [
    "#HAPUS NILAI DALAM TUPLE PHYTON\n",
    "#karena pada tuple tidak memungkinkan untuk menghapus elemennya, maka bisa melakukan dengan cara mengggabungkan\n",
    "#tuple lain dengan unsur-unsur yang tidak ingin dibuang\n",
    "pelajaran= ('fisika','matematika','kimia')\n",
    "print (pelajaran)\n",
    "\n",
    "#hapus tuple dengan statement del (delete)\n",
    "del pelajaran\n",
    "\n",
    "#lalu kembali buat tuple yang baru yaitu dengan elemen-elemen yang diinginkan\n",
    "pelajaran=('geometri analitik','algoritma dan struktur data','aljabar linear elementer')#deklarasi elemen baru\n",
    "print ('Setelah menggunakan statement del pada tuple, hasilnya: ', pelajaran) #hasilnya akan diupdate dengan  elemen yang baru"
   ]
  },
  {
   "cell_type": "code",
   "execution_count": 38,
   "id": "fce63db0",
   "metadata": {},
   "outputs": [
    {
     "name": "stdout",
     "output_type": "stream",
     "text": [
      "97\n",
      "5\n",
      "78\n"
     ]
    }
   ],
   "source": [
    "#FUNGSI BUILD IN PADA TUPLE PHYTON\n",
    "\n",
    "nilai= (78,89,97,94,85)\n",
    "print (max (nilai)) #Mencetak elemen dari tuple yang merupakan nilai maksimum\n",
    "\n",
    "print (len (nilai)) #Mencetak total anggota dai tuple\n",
    "\n",
    "print (min(nilai)) #Mencetak elemen tuple yang merupakan nilai minimum\n"
   ]
  },
  {
   "cell_type": "markdown",
   "id": "7b71e60c",
   "metadata": {},
   "source": [
    "# DICTIONARIES"
   ]
  },
  {
   "cell_type": "code",
   "execution_count": null,
   "id": "0b7d3c8d",
   "metadata": {},
   "outputs": [],
   "source": [
    "Dictionaries digunakan jika datanya terkait satu sama lain.\n",
    "Misalnya data sesorang yang terdiri dari data umur, nama, tanggal lahir yang merupakan satu kesatuan\n",
    "data yang bersumber dari orang tersebut."
   ]
  },
  {
   "cell_type": "code",
   "execution_count": 11,
   "id": "11957ab5",
   "metadata": {},
   "outputs": [
    {
     "name": "stdout",
     "output_type": "stream",
     "text": [
      "{'nama': 'Ketut Dogler', 'umur': 12, 'apakah single?': False}\n",
      "Ketut Dogler\n",
      "12\n",
      "False\n",
      "Ketut Dogler\n",
      "12\n",
      "False\n"
     ]
    }
   ],
   "source": [
    "#membuat sebuah dictionary data seseorang berupa nama, umur, dan statusnya\n",
    "data_orang={\n",
    "    \"nama\": \"Ketut Dogler\",\n",
    "    \"umur\":12,\n",
    "    \"apakah single?\":False\n",
    "}\n",
    "\n",
    "print (data_orang) #mencetak seluruh data yang ada\n",
    "print (data_orang['nama']) #mencetak data \"nama\" dari data sesorang yang sudah dideklarasikan sebelumnya\n",
    "print (data_orang ['umur']) #mencetak umur dari orang tersebut\n",
    "print (data_orang ['apakah single?']) #mencetak apakah sesorang tsb single\n",
    "\n",
    "print (data_orang.get('nama')) #mencari data \"nama\" dan mencetak nilai tersebut\n",
    "print (data_orang. get ('umur'))#mencari data \"umur\" dan mencetak nilai tersebut\n",
    "print (data_orang.get('apakah single?'))#mencari data \"apakah single?\" dan mencetak nilai tersebut\n",
    "\n",
    "#contoh yang salah\n",
    "print (data_orang['Nama']) #error, karena pada data orang terebut yang dideklarasikan adalah \"nama\" bukan \"Nama\"\n",
    "                            #sehingga akan menghasilkan error karena data tsb tidak ditemukan\n",
    "print (data_orang ['Umur']) #data yang benar adalah \"umur\", bukan \"Umur\" sehingga hasilny error\n",
    "print (data_orang['apakah singleee?'])  #data yang benar adalah \"apakah single?\" sehingga hasil akan error"
   ]
  },
  {
   "cell_type": "code",
   "execution_count": 16,
   "id": "2b59465b",
   "metadata": {},
   "outputs": [
    {
     "name": "stdout",
     "output_type": "stream",
     "text": [
      "Ketut Dogler\n",
      "False\n",
      "12\n",
      "None\n",
      "None\n",
      "None\n"
     ]
    }
   ],
   "source": [
    "#FUNGSI GET DARI CONTOH 'DATA ORANG'\n",
    "\n",
    " #jika terdapat data \"nama\", maka hasil yang keluar adalah nilai dari 'nama'.\n",
    "print (data_orang.get('nama')) #\n",
    "\n",
    " #jika terdapat data \"apakah single?\", maka hasil yang keluar adalah nilai dari 'apakah single.'\n",
    "print (data_orang.get('apakah single?'))\n",
    "\n",
    " #jika terdapat data \"umur\", maka hasil yang keluar adalah nilai dari umur\n",
    "print (data_orang.get ('umur'))\n",
    "\n",
    "\n",
    "#jika menggunakan fungsi get, lalu mencari sebuah kata yang tidak ada dalam data tsb\n",
    "#hasil yang keluar adalah \"None\"\n",
    "print (data_orang.get('Nama'))\n",
    "print (data_orang.get('apakah taken?'))\n",
    "print (data_orang.get('umurnya'))\n",
    "print (data_orang.get('tanggal_lahir'))"
   ]
  },
  {
   "cell_type": "code",
   "execution_count": 17,
   "id": "fd679208",
   "metadata": {},
   "outputs": [],
   "source": [
    "#menambahkan data No HP pada data yang sudah ada sebelumnya\n",
    "data_orang['HP']='08123456789'\n",
    "print (data_orang[\"HP\"])\n",
    "\n",
    "#mencetak hasil data_orang yang sudah diupdat dengan data no HP\n",
    "print (data_orang)"
   ]
  },
  {
   "cell_type": "code",
   "execution_count": 32,
   "id": "072b2d25",
   "metadata": {},
   "outputs": [
    {
     "name": "stdout",
     "output_type": "stream",
     "text": [
      "3\n"
     ]
    }
   ],
   "source": [
    "#LENGTH OF DICTIONARY\n",
    "# untuk menentukan berapa banyak elemen yang dipunya seuah dicitonary, gunakan fungsi len()\n",
    "data_orang={\n",
    "    \"nama\": \"Ketut Dogler\",\n",
    "    \"umur\":12,\n",
    "    \"apakah single?\":False\n",
    "}\n",
    "\n",
    "print (len (data_orang))"
   ]
  },
  {
   "cell_type": "code",
   "execution_count": 31,
   "id": "80bfec7e",
   "metadata": {},
   "outputs": [
    {
     "name": "stdout",
     "output_type": "stream",
     "text": [
      "<class 'dict'>\n"
     ]
    }
   ],
   "source": [
    "#DICTIONARY ITEM'S DATA TYPE\n",
    "# elemen dari dictionary bisa berupa beberapa tipe data\n",
    "data_orang={\n",
    "    \"nama\": \"Ketut Dogler\",\n",
    "    \"umur\":12,\n",
    "    \"apakah single?\":False\n",
    "}\n",
    "print (type (data_orang))"
   ]
  },
  {
   "cell_type": "code",
   "execution_count": 33,
   "id": "268d87d5",
   "metadata": {},
   "outputs": [
    {
     "name": "stdout",
     "output_type": "stream",
     "text": [
      "Dictionary yang kosong adalah \n",
      "()\n"
     ]
    }
   ],
   "source": [
    "#MEMBUAT SEBUAH DICTIONARY YANG KOSONG\n",
    "dict =()\n",
    "print (\"Dictionary yang kosong adalah \") \n",
    "print (dict) #mencetak hasil dari dictionary yang kosong"
   ]
  },
  {
   "cell_type": "markdown",
   "id": "fac6fe55",
   "metadata": {},
   "source": [
    "# LATIHAN: Buatlah program untuk merubah nomor HP yang tadinya berupa angka menjadi sebutan bilangan tersebut. Misalnya angka 0812 akan menjadi nol delapan 1 dua"
   ]
  },
  {
   "cell_type": "code",
   "execution_count": 21,
   "id": "3515211e",
   "metadata": {},
   "outputs": [
    {
     "name": "stdout",
     "output_type": "stream",
     "text": [
      "Masukkan no HP Anda= 085888160897\n",
      "nol delapan lima delapan delapan delapan satu enam nol delapan sembilan tujuh \n"
     ]
    }
   ],
   "source": [
    "#membuat nilai tiap angka 1-9 menjadi bentuk tulisan\n",
    "angka={\n",
    "    \"0\":\"nol\",\n",
    "    \"1\":\"satu\",\n",
    "    \"2\":\"dua\",\n",
    "    \"3\":\"tiga\",\n",
    "    \"4\":\"empat\",\n",
    "    \"5\":\"lima\",\n",
    "    \"6\":\"enam\",\n",
    "    \"7\":\"tujuh\",\n",
    "    \"8\":\"delapan\",\n",
    "    \"9\":\"sembilan\"\n",
    "}\n",
    "nomor_hp= input (\"Masukkan no HP Anda= \") #no hp akan diinput\n",
    "nomor_angka=\"\"\n",
    "for isi in nomor_hp:   #untuk setiap elemen yang ada di no hp harus menjalankan sitem sbb\n",
    "    nomor_angka+= angka.get (isi)+\" \"  \n",
    "print (nomor_angka)  #cetak hasilnya"
   ]
  },
  {
   "cell_type": "markdown",
   "id": "15282dd8",
   "metadata": {},
   "source": [
    "# FUNGSI DALAM PHYTON "
   ]
  },
  {
   "cell_type": "code",
   "execution_count": null,
   "id": "6a6ca73a",
   "metadata": {},
   "outputs": [],
   "source": [
    "Kita telah menggunakan beberapa jenis fungsi pada phyton, seperti input, print, len, range,dll.\n",
    "Fungsi tersebut dibentuk untuk menghindari perulangan pembuatan program secara manual.\n",
    "Jadi, untuk mempermudah program yang dibuat, setiap fungsi yang kita butuhkan dapat dipanggil"
   ]
  },
  {
   "cell_type": "code",
   "execution_count": 36,
   "id": "17969e69",
   "metadata": {},
   "outputs": [
    {
     "name": "stdout",
     "output_type": "stream",
     "text": [
      "Nama lengkapnya adalah vanessa heriyanto\n",
      "Nama depannya adalah VANESSA\n",
      "Nama belakang adalah HERIYANTO\n",
      "('VANESSA', 'HERIYANTO')\n"
     ]
    }
   ],
   "source": [
    "#CONTOH 1\n",
    "\n",
    "def full_name(first_name,last_name):\n",
    "    print (f\"Nama lengkapnya adalah {first_name} {last_name}\")\n",
    "    \n",
    "full_name(first_name,last_name) #kita dapat memanggil fungsinya dengan cara seperti ini\n",
    "\n",
    "\n",
    "#CONTOH LAIN\n",
    "first_name=input (\"Nama depannya adalah \") #menginput nama depan\n",
    "last_name=input (\"Nama belakang adalah \") #menginput nama belakang\n",
    "full_name=(first_name,last_name)  #membuat variabel full name dengan menggabungkan kedua variabel sebelumnya\n",
    "print (full_name) #cetak hasilnya"
   ]
  },
  {
   "cell_type": "code",
   "execution_count": 16,
   "id": "96d949d8",
   "metadata": {
    "scrolled": true
   },
   "outputs": [
    {
     "name": "stdout",
     "output_type": "stream",
     "text": [
      "Halo phyton!Halo dunia!\n",
      "Halo phyton!Halo dunia!\n",
      "Halo phyton!Halo dunia!\n"
     ]
    }
   ],
   "source": [
    "#CONTOH 2\n",
    "#contoh fungsi sederhana dengan nama hello_world\n",
    "def halo_dunia ():\n",
    "    print ('Halo phyton!Halo dunia!')\n",
    "\n",
    "#kcukup mengetikan nama fungsinya, ditambahkan dengan tanda kurung biasa, maka fungsi akan terpanggil\n",
    "#bahkan kita bisa memanggil fungsi halo_dunia berkali-kali\n",
    "halo_dunia()\n",
    "halo_dunia()\n",
    "halo_dunia()"
   ]
  },
  {
   "cell_type": "code",
   "execution_count": 23,
   "id": "68da0385",
   "metadata": {},
   "outputs": [
    {
     "name": "stdout",
     "output_type": "stream",
     "text": [
      "Halo Sam, selamat dataaang!\n",
      "Halo Vanessa, selamat dataaang!\n",
      "Halo Galuh, selamat dataaang!\n"
     ]
    }
   ],
   "source": [
    "#CONTOH 3\n",
    "\n",
    "def selamat_datang(nama):\n",
    "    print (f'Halo {nama}, selamat dataaang!')\n",
    "\n",
    "#Kita juga dapat memanggil fungsi dan mengisi dengan variabel yang berbeda-beda sekaligus\n",
    "selamat_datang ('Sam')  \n",
    "selamat_datang ('Vanessa')\n",
    "selamat_datang ('Galuh')"
   ]
  },
  {
   "cell_type": "code",
   "execution_count": 29,
   "id": "d3d6ca5c",
   "metadata": {},
   "outputs": [
    {
     "name": "stdout",
     "output_type": "stream",
     "text": [
      "Perkenalkan saya adalah Vanessa dari Surabaya\n",
      "Perkenalkan saya adalah Tiwik dari Bali\n"
     ]
    }
   ],
   "source": [
    "#CONTOH 4 (PARAMETER WAJIB)\n",
    "def perkenalan (nama,asal):\n",
    "    print (f'Perkenalkan saya adalah {nama} dari {asal}')\n",
    "    \n",
    "perkenalan (\"Vanessa\",\"Surabaya\")  #kita panggil fungsinya dengan mengisi variabel kosong tsb\n",
    "perkenalan ('Tiwik','Bali') #pengisian variabel dengan nama dan asal yang berbeda\n",
    "\n",
    "#jika hanya mengisi 1  variabel saja, contoh, hanya mengisi variabel nama, maka akan mendapatkan error"
   ]
  },
  {
   "cell_type": "code",
   "execution_count": 35,
   "id": "176153ee",
   "metadata": {},
   "outputs": [
    {
     "name": "stdout",
     "output_type": "stream",
     "text": [
      "Suhu di bali adalah 49 fahrenheit\n",
      "Suhu di surabaya adalah 100 celcius\n"
     ]
    }
   ],
   "source": [
    "#CONTOH 5 (PARAMETER OPSIONAL)\n",
    "#adalah parameteryang seandainya tidak diisi pun, dia sudah memiliki nilai defaultnya.\n",
    "def suhu_udara (daerah, derajat, satuan='celcius'): #parameter daerah dan derajat adalah wajib, sedangkan satuan tidak,\n",
    "                                                #karena sudah memiliki nilai default yaitu celcius\n",
    "    print (f'Suhu di {daerah} adalah {derajat} {satuan}')\n",
    "    \n",
    "#pemanggilan fungsinya\n",
    "suhu_udara ('bali', 49,'fahrenheit')  #pemanggilan 3 parameter yang dimana salah satunya bersifat opsional\n",
    "#pemanggilan 2 fungsi yang wajib\n",
    "suhu_udara ('surabaya',100)#tidak menuliskan nilai parameter ke3 pun tidak akan error dan\n",
    "                            #akan diisi dengan nilai default."
   ]
  },
  {
   "cell_type": "code",
   "execution_count": 39,
   "id": "87ccbcbc",
   "metadata": {},
   "outputs": [
    {
     "name": "stdout",
     "output_type": "stream",
     "text": [
      "Suhu di Jakarta adalah Fahrenheit celcius\n",
      "Suhu di Jakarta adalah 30 Fahrenheit\n",
      "Suhu di malaysia adalah 50 kelvin\n"
     ]
    }
   ],
   "source": [
    "#CONTOH 6 (FUNGSI DENGAN PARAMETER TIDAK BERURUT)\n",
    "#percobaan lanjutan dari sebelumnya, bagaiamana jika parameter opsionalnya ada lebih dari 1?\n",
    "def suhu_udara (daerah, derajat=30, satuan='celcius'): #kita menentukan nilai default unruk derajat\n",
    "    print (f'Suhu di {daerah} adalah {derajat} {satuan}')\n",
    "\n",
    "#pemanggilan dengan 2 parameter:\n",
    "suhu_udara('Jakarta','Fahrenheit')  #saat ingin mengisi daerah dan satuan, yang terisi malah daerah dan derajat.\n",
    "#dapat diatasi sbb\n",
    "suhu_udara ('Jakarta',satuan='Fahrenheit') #sudah sesuai dengankeinginan sebelumnya untuk hanya mengisi daerah dan satuan\n",
    "\n",
    "#bahkan kita dapat memanggilnya secara tidak berurutan sekalipun,\n",
    "suhu_udara (satuan='kelvin',daerah='malaysia',derajat=50) #hasilnya akan berurutan jika diberikan keterangan terlebih dahulu"
   ]
  },
  {
   "cell_type": "code",
   "execution_count": 55,
   "id": "5f427d51",
   "metadata": {},
   "outputs": [
    {
     "name": "stdout",
     "output_type": "stream",
     "text": [
      "36\n",
      "100\n",
      "Luas ppersegi dengan sisi (76) adalah  5776\n",
      "Total kedua luas persegi besar dan mungil adalah  10205\n",
      "27.0\n",
      "10.384615384615385\n",
      "False\n"
     ]
    }
   ],
   "source": [
    "#CONTOH 7 (FUNGSI MENGEMBALIKAN NILAI)\n",
    "def luas_persegi (sisi):\n",
    "    return sisi*sisi  #return berfungsi untuk mengembalikan nilai\n",
    "\n",
    "#panggil fungsi :\n",
    "print (luas_persegi(6)) #akan mengalikan 6 dengan 6 sesuai pengoperasian yang dideklarasikan\n",
    "print (luas_persegi (10))#akan mengalikan 10 dengan 10 sesuai pengoperasian yang dideklarasikan\n",
    "\n",
    "#diberi kalimat tambahan:\n",
    "print ('Luas ppersegi dengan sisi (76) adalah ', luas_persegi (76))\n",
    "#akan mengalikan 76 dengan 76 sesuai pengoperasian yang dideklarasikan\n",
    "\n",
    "#kita juga dapat menyimpan di variabel:\n",
    "persegi_besar= luas_persegi (101)\n",
    "persegi_mungil= luas_persegi(2)\n",
    "print ('Total kedua luas persegi besar dan mungil adalah ',persegi_besar+persegi_mungil) \n",
    "\n",
    "#LEBIH DARI 1 RETURN\n",
    "#jika return telah dieksekusi pada sebuah fungsi, proses yang ada dalam blok kode fungsi akan berhenti\n",
    "def persentase (total, jumlah):\n",
    "    if (total>=0 and total<= jumlah):\n",
    "        return total/jumlah*45 #jika memenuhi, maka akan menjalankan return ini dan skip semua perintah di bawahnya\n",
    "    return False #ika tidak memenuhi, maka hasil outputnya False\n",
    "\n",
    "#panggil fungsinya\n",
    "print (persentase (30,50))\n",
    "print (persentase (15,65))\n",
    "print (persentase (100,60)) #return telah dieksekusi maka "
   ]
  },
  {
   "cell_type": "code",
   "execution_count": 3,
   "id": "2dd7202b",
   "metadata": {},
   "outputs": [
    {
     "name": "stdout",
     "output_type": "stream",
     "text": [
      "[print secara langsung] denpasar\n",
      "[panggil fungsi halo] denpasar\n"
     ]
    }
   ],
   "source": [
    "#CONTOH 8 (RUANG LINGKUP VARIABEL PADA FUNGSI)\n",
    "#contoh variabel lokal, varaiabel yang hanya hidup dalam satu blok kode tertentu\n",
    "#contohnya adalah sbb\n",
    "kota= 'denpasar'\n",
    "def halo():\n",
    "    print (kota) \n",
    "    \n",
    "#panggil fungsi\n",
    "print ('[print secara langsung]', kota)   #langsung memanggil secara langsung yaitu 'kota'\n",
    "print ('[panggil fungsi halo]', end=' ')  #memanggil fungsinya, yaitu fungsi halo ()\n",
    "halo()\n",
    "\n",
    "#variabel kota yang ada dalam fungsi adalah variabel kota yang sama dengan yang ada di luar fungsi"
   ]
  },
  {
   "cell_type": "code",
   "execution_count": 65,
   "id": "aaa89da0",
   "metadata": {},
   "outputs": [
    {
     "name": "stdout",
     "output_type": "stream",
     "text": [
      "[PANGGIL FUNGSI HALO ()]\n",
      "denpasar bali\n",
      "\n",
      " [SECARA LANGSUNG]\n",
      "denpasar bali\n"
     ]
    }
   ],
   "source": [
    "#CONTOH 9\n",
    "#coba diubah kode programnya:\n",
    "kota, provinsi= 'denpasar','bali'\n",
    "def halo():\n",
    "    provinsi= 'bali'  #ubah variabel provinsi pada fungsi hello ()\n",
    "    print (kota, provinsi)\n",
    "#panggil fungsi\n",
    "print ('[PANGGIL FUNGSI HALO ()]') #saat fungsi hello() dieksekusi, benar bahwa variabel provinsi berubah menjadi 'Jawa barat'\n",
    "halo()\n",
    "\n",
    "print ('\\n [SECARA LANGSUNG]') #tetapi ketika ditampilkan lagi secara langsung variabel provinsi kembali ke nilai semula\n",
    "print (kota, provinsi)\n",
    "\n",
    "#pada saat mengubah variabel provinsi pada fungsi hello(), itu sebenarnya tidak merubah provinsi yang ada di luar,\n",
    "#melainkan membuat variabel baru dengan nama sama, akan ttp hanya variabel lokal yang bisa mengakses yaitu fungsi hello ()"
   ]
  },
  {
   "cell_type": "code",
   "execution_count": 9,
   "id": "20af0d77",
   "metadata": {},
   "outputs": [],
   "source": [
    "#CONTOH 10 (DOCSTRING)\n",
    "#kita bisa memberikan sebuah deskripsi terhadap fungsi yang kita buat.\n",
    "#untuk mendiskripsikan deskripsi program, kita dapat menuliskan komentar multibaris tepat setelah mendefinisikan nam fungsi\n",
    "\n",
    "def suhu_udara (daerah, derajat=30,satuan='celcius'):\n",
    "    \"\"\"\n",
    "fungsi ini bertugas untuk menampilkan teks yang memberikan informasi tentang suhu udara di suatu daerah.\n",
    "    \"\"\"\n",
    "print (\"Suhu di {} adalah {} {}\".format (daerah, derajat, satuan))\n",
    "\n"
   ]
  },
  {
   "cell_type": "markdown",
   "id": "bce0cc1c",
   "metadata": {},
   "source": [
    "# 5.19.1 TUGAS FUNGSI PHYTON"
   ]
  },
  {
   "cell_type": "code",
   "execution_count": null,
   "id": "fe7e82ab",
   "metadata": {},
   "outputs": [],
   "source": [
    "Ada dua jenis tugas fungsi pada Phyton:\n",
    "    -Menjalankan perintah\n",
    "    -Menampilkan hasil perhitungan"
   ]
  },
  {
   "cell_type": "code",
   "execution_count": 13,
   "id": "49fda5b9",
   "metadata": {},
   "outputs": [
    {
     "name": "stdout",
     "output_type": "stream",
     "text": [
      "1.3333333333333333\n",
      "1.3333333333333333\n",
      "None\n"
     ]
    }
   ],
   "source": [
    "#CONTOH 1\n",
    "def waktu_sampai(jarak,kecepatan): #deklarasi fungsi waktu_sampai ()\n",
    "    waktu=jarak/kecepatan #menulis rumus waktu\n",
    "    print (waktu)\n",
    "waktu_sampai(80,60)  #mencetak waktu jika jarak=80, kecepatan=60\n",
    "\n",
    "#kita dapat menuliskan nilainya dalam sebuah variabel a\n",
    "a=waktu_sampai (80,60)\n",
    "print (a)"
   ]
  },
  {
   "cell_type": "code",
   "execution_count": 12,
   "id": "808ac470",
   "metadata": {},
   "outputs": [
    {
     "name": "stdout",
     "output_type": "stream",
     "text": [
      "1.3333333333333333\n"
     ]
    }
   ],
   "source": [
    "def waktu_tempuh (jarak,kecepatan): \n",
    "    waktu=jarak/kecepatan  #menulis rumus dari waktu\n",
    "    return (waktu)\n",
    "waktu_tempuh(80,60)\n",
    "\n",
    "#kita dapat menuliskan nilai waktu tempuh dalam variabel b\n",
    "b=waktu_tempuh (80,60)\n",
    "print (b)"
   ]
  },
  {
   "cell_type": "code",
   "execution_count": 14,
   "id": "af251f21",
   "metadata": {},
   "outputs": [],
   "source": [
    "import numpy #jika tidak error saat dijalankan, maka artinya library sudah didownload\n",
    "\n",
    "#untuk membuat sebuah alias gunakan keyword 'as' selagi mengimport:\n",
    "import numpy as np \n",
    "#sekarang kita dapat merujuk numpy dengan hanya menuliskan np saja"
   ]
  },
  {
   "cell_type": "code",
   "execution_count": 11,
   "id": "98ac8f5e",
   "metadata": {},
   "outputs": [
    {
     "name": "stdout",
     "output_type": "stream",
     "text": [
      "1.21.5\n"
     ]
    }
   ],
   "source": [
    "import numpy as np    \n",
    "print (np.__version__)  "
   ]
  },
  {
   "cell_type": "code",
   "execution_count": 13,
   "id": "2b1dad02",
   "metadata": {},
   "outputs": [
    {
     "name": "stdout",
     "output_type": "stream",
     "text": [
      "[1 2 3 4 5]\n",
      "<class 'numpy.ndarray'>\n"
     ]
    }
   ],
   "source": [
    "import numpy\n",
    "arr= numpy.array ([1,2,3,4,5])\n",
    "print (arr) \n",
    "\n",
    "print (type(arr))  #arr merujuk pada ndarray, yaitu objek array pada numpy\n",
    "\n",
    "\n",
    "#gunakan sebuah tuple untuk membuat sebuah numpy array:\n",
    "arr=np.array ((1,2,3,4,5))\n",
    "print (arr)"
   ]
  },
  {
   "cell_type": "code",
   "execution_count": 12,
   "id": "1b01d721",
   "metadata": {},
   "outputs": [
    {
     "name": "stdout",
     "output_type": "stream",
     "text": [
      "5.0\n",
      "616.0\n",
      "4\n",
      "6\n"
     ]
    }
   ],
   "source": [
    "#MENGAPLIKASIKAN TUGAS FUNGSI PHYTON PADA RUMUS MATEMATIKA:\n",
    "\n",
    "#RUMUS LUAS SEGITIGA\n",
    "def luas_segitiga (alas, tinggi): #luas segitiga membutuhkan 2 parameter, yaitu alas dan tinggi\n",
    "    luas_segitiga=(1/2)*alas*tinggi #deklarasikan rumus dari luas segitiga\n",
    "    return luas_segitiga\n",
    "print (luas_segitiga (5,2))  #memanggil fungsinya dan memberikan nilai alas=5 daan tinggi=2\n",
    "\n",
    "\n",
    "#RUMUS LUAS LINGKARAN\n",
    "def luas_lingkaran (jari_jari):  #luas lingkaran hanya membutuhkan 1 parameter, yaitu jari-jari\n",
    "    luas_lingkaran= (22/7)*(jari_jari**2) #deklarasikan rumus luas lingkaran\n",
    "    return luas_lingkaran\n",
    "print (luas_lingkaran (14)) #memanggil fungsi dan memberikan nilai jari-jari sebesar 14\n",
    "\n",
    "#RUMUS LUAS PERSEGI\n",
    "def luas_persegi (sisi): #luas persegi hanya membutuhkan 1 parameter, yaitu jari-jari\n",
    "    luas_persegi=sisi**2 #deklarasikan rumus luas persegi\n",
    "    return luas_persegi\n",
    "print (luas_persegi (2)) #memanggil fungsi dan memberikan nilai sisi sebesar 2\n",
    "\n",
    "#RUMUS LUAS PERSEGI PANJANG\n",
    "def luas_persegi_panjang (panjang, lebar): #luas lingkaran membutuhkan 2 parameter, yaitu panjang dan lebar\n",
    "    luas=panjang*lebar  #deklarasikan rumus luas persegi panjang\n",
    "    return luas\n",
    "print(luas_persegi_panjang (2,3)) #memanggil fungsi dan memberikan nilai panjang=2 dan lebar=3"
   ]
  },
  {
   "cell_type": "code",
   "execution_count": 5,
   "id": "a42eebf4",
   "metadata": {},
   "outputs": [
    {
     "name": "stdout",
     "output_type": "stream",
     "text": [
      "Tulis jenis bidang= se\n",
      "Maaf jenis bidang yang anda input tidak termasuk segitiga, lingkaran, persegi ataupun persegi panjang\n",
      "Silahkan mencoba kembali\n"
     ]
    }
   ],
   "source": [
    "#saya memanggil kembali fungsi def() berbagai rumus agar menjadi satu kode block dengan kode yang akan saya buat\n",
    "#karena pada saat saya tidak menjadikannya ke dalam satu kode blok yang sama, luas tidak terdefine\n",
    "\n",
    "def luas_segitiga (alas, tinggi): #luas segitiga membutuhkan 2 parameter, yaitu alas dan tinggi\n",
    "    luas_segitiga=(1/2)*alas*tinggi #deklarasikan rumus dari luas segitiga\n",
    "    return luas_segitiga\n",
    "def luas_lingkaran (jari_jari):  #luas lingkaran hanya membutuhkan 1 parameter, yaitu jari-jari\n",
    "    luas_lingkaran= (22/7)*(jari_jari**2) #deklarasikan rumus luas lingkaran\n",
    "    return luas_lingkaran\n",
    "def luas_persegi (sisi): #luas persegi hanya membutuhkan 1 parameter, yaitu jari-jari\n",
    "    luas_persegi=sisi**2 #deklarasikan rumus luas persegi\n",
    "    return luas_persegi\n",
    "def luas_persegi_panjang (panjang, lebar): #luas lingkaran membutuhkan 2 parameter, yaitu panjang dan lebar\n",
    "    luas=panjang*lebar  #deklarasikan rumus luas persegi panjang\n",
    "    return luas\n",
    "\n",
    "jenis_bidang= input ('Tulis jenis bidang= ')\n",
    "if jenis_bidang.upper ()=='SEGITIGA': \n",
    "    alas=float (input ('Berapakah panjang alas?')) #input parameter\n",
    "    tinggi= float (input ('Berapakah tingginya?')) #input parameter2\n",
    "    luas= luas_segitiga(alas, tinggi)  #Untuk menghitung luas segitiga, panggil fungsi def luas segitiga()\n",
    "    print (f\"Luas {jenis_bidang} adalah {luas}\")\n",
    "    \n",
    "elif jenis_bidang.upper()=='LINGKARAN':\n",
    "    jari_jari=float (input ('Berapakah panjang jari-jari?'))#input parameter\n",
    "    luas=luas_lingkaran (jari_jari) #Untuk menghitung luas lingkaran, panggil fungsi def luas lingkaran()\n",
    "    print (f\"Luas {jenis_bidang} adalah {luas}\")\n",
    "    \n",
    "elif jenis_bidang.upper()== 'PERSEGI' or (jenis_bidang.upper()=='BUJUR SANGKAR'):\n",
    "    sisi= float (input('Berapa sisinya?')) #input parameter\n",
    "    luas=luas_persegi(sisi)  #Untuk menghitung luas persegi atau bujur sangkar, panggil fungsi def luas persegi()\n",
    "    print(f'Luas {jenis_bidang} adalah {luas}')\n",
    "    \n",
    "elif jenis_bidang.upper()=='PERSEGI PANJANG':\n",
    "    panjang=float (input ('Berapakah panjangnya?'))#input parameter\n",
    "    lebar=float(input('Berapakah lebarnya?'))#input parameter2\n",
    "    luas=luas_persegi_panjang (panjang, lebar)  #Untuk menghitung luas persegi panjang, panggil fungsi def luas persegi panjang()\n",
    "    print (f\"Luas {jenis_bidang} adalah {luas}\")\n",
    "else:\n",
    "    print (f'Maaf jenis bidang yang anda input tidak termasuk segitiga, lingkaran, persegi ataupun persegi panjang')\n",
    "    print (f'Silahkan mencoba kembali')\n"
   ]
  },
  {
   "cell_type": "markdown",
   "id": "a6e5026a",
   "metadata": {},
   "source": [
    "# 5.20 NUMPY"
   ]
  },
  {
   "cell_type": "code",
   "execution_count": 4,
   "id": "e29888cf",
   "metadata": {},
   "outputs": [],
   "source": [
    "#Numpy adalah library phyton yang digunakan dengan array.\n",
    "#Berfungsi untuk beekerja dalam domain aljabar linear, matrix dan lain-lain"
   ]
  },
  {
   "cell_type": "code",
   "execution_count": 6,
   "id": "77e8f404",
   "metadata": {},
   "outputs": [],
   "source": [
    "import pandas as pd"
   ]
  },
  {
   "cell_type": "markdown",
   "id": "fb0c5b5b",
   "metadata": {},
   "source": [
    "### 5.20.1 perintah dasar numpy"
   ]
  },
  {
   "cell_type": "code",
   "execution_count": null,
   "id": "48972108",
   "metadata": {},
   "outputs": [],
   "source": [
    "Numpy arrays menyediakan atribut ndim yang mengembalikan bilangan bulat yang memberi tahu kita\n",
    "berapa banyak dimensi yang dimiliki array."
   ]
  },
  {
   "cell_type": "code",
   "execution_count": 83,
   "id": "3e885b2b",
   "metadata": {},
   "outputs": [
    {
     "name": "stdout",
     "output_type": "stream",
     "text": [
      "[0 1 2 3 4]\n",
      "[[5 6 7 8]\n",
      " [9 8 7 6]]\n",
      "[[[0 1 2 3]\n",
      "  [4 5 6 7]]\n",
      "\n",
      " [[8 9 8 7]\n",
      "  [6 5 4 3]]\n",
      "\n",
      " [[1 2 3 4]\n",
      "  [5 6 7 8]]]\n"
     ]
    }
   ],
   "source": [
    "#CONTOH 1\n",
    "import numpy as np\n",
    "a=np.array ([0,1,2,3,4])\n",
    "print (a)  #cetak array a\n",
    "\n",
    "b=np.array ([[5,6,7,8],[9,8,7,6]])\n",
    "print (b)  #cetak array b\n",
    "\n",
    "c=np.array ([[[0,1,2,3],[4,5,6,7]],  #ketika diberi kurung siku sebanyak 2 kali, maka akan ter-enter\n",
    "           [[8,9,8,7],[6,5,4,3]],\n",
    "           [[1,2,3,4],[5,6,7,8]]])\n",
    "print (c)  #cetak array c\n",
    "\n",
    "\n",
    "print (a.ndim)\n",
    "print (a.ndim)\n",
    "print (a.ndim)\n",
    "\n",
    "print (a.shape)\n",
    "print (a.shape)\n",
    "print (a.shape)\n"
   ]
  },
  {
   "cell_type": "code",
   "execution_count": 12,
   "id": "71e1388b",
   "metadata": {},
   "outputs": [
    {
     "name": "stdout",
     "output_type": "stream",
     "text": [
      "0\n",
      "1\n",
      "2\n",
      "3\n"
     ]
    }
   ],
   "source": [
    "#CONTOH 2 (mengecek dimensi dari array)\n",
    "import numpy as np\n",
    "\n",
    "a=np.array (42) \n",
    "b=np.array ([1,2,3,4,5]) #berdimensi 1 saat memiliki 1 kurung di awal dan di akhir\n",
    "c=np.array ([[1,2,3],[4,5,6]]) #berdimensi 2 saat memiliki 2 kurung di awal dan di akhir\n",
    "d=np.array([[[1,2,3],[4,5,6]], [[1,2,3],[4,5,6]]]) #berdimensi 3 saat memiliki 3 kurung di awal dan di akhir\n",
    "print (a.ndim)\n",
    "print (b.ndim)\n",
    "print (c.ndim)\n",
    "print (d.ndim)"
   ]
  },
  {
   "cell_type": "code",
   "execution_count": 13,
   "id": "700d2bb1",
   "metadata": {},
   "outputs": [
    {
     "name": "stdout",
     "output_type": "stream",
     "text": [
      "[[[[[1 2 3 4]]]]]\n",
      "number of dimensions:  5\n"
     ]
    }
   ],
   "source": [
    "#DIMENSI LEBIH TINGGI PADA ARRAY\n",
    "#kita dapat menentukan jumlah dimensi dengan menggunakan argumen ndmin\n",
    "\n",
    "import numpy as np\n",
    "arr=np.array ([1,2,3,4],ndmin=5)\n",
    "print (arr)\n",
    "print ('number of dimensions: ', arr.ndim)"
   ]
  },
  {
   "cell_type": "markdown",
   "id": "8d022af8",
   "metadata": {},
   "source": [
    "### memanggil anggota, kolom dan baris dengan numpy"
   ]
  },
  {
   "cell_type": "code",
   "execution_count": 25,
   "id": "1dd370fa",
   "metadata": {},
   "outputs": [
    {
     "name": "stdout",
     "output_type": "stream",
     "text": [
      "[[ 1  2  3  4]\n",
      " [ 5  6  7  8]\n",
      " [ 9 10 11 12]]\n",
      "4\n",
      "[[ 1  2  3  4]\n",
      " [ 5  6  7  8]\n",
      " [ 9 10 11 12]]\n",
      "[[ 5  6  7  8]\n",
      " [ 9 10 11 12]]\n",
      "[ 3  7 11]\n",
      "[2 3]\n",
      "[1 3]\n",
      "[[100   2   3   4]\n",
      " [  5   6   7   8]\n",
      " [  9  10  11  12]]\n"
     ]
    }
   ],
   "source": [
    "import numpy as np\n",
    "d= np.array ([[1,2,3,4],[5,6,7,8],[9,10,11,12]])\n",
    "print (d)\n",
    "\n",
    "print (d[0,3]) #mencetak elemen baris ke0 kolom ke3\n",
    "print (d[ : ]) #mencetak semua elemen yang ada\n",
    "print (d[1: ]) #mencetak semua elemen dari baris ke-1 sampai selesai\n",
    "print (d[:,2]) #mencetak semua elemen dari awal sampai baris ke2\n",
    "print (d[0,1:3]) #mencetak semua elemen dari baris ke0 hingga baris ke3 namun dengan jarak 3 lompatan\n",
    "print (d[0,0:3:2]) \n",
    "\n",
    "#update nilai dari elemen baris ke0 kolom ke0 dengan angka 100\n",
    "d[0,0]=100\n",
    "print (d)\n"
   ]
  },
  {
   "cell_type": "markdown",
   "id": "392a482e",
   "metadata": {},
   "source": [
    "### matriks pada numpy"
   ]
  },
  {
   "cell_type": "code",
   "execution_count": 14,
   "id": "6ea00000",
   "metadata": {},
   "outputs": [
    {
     "name": "stdout",
     "output_type": "stream",
     "text": [
      "[[1. 1. 1.]\n",
      " [1. 1. 1.]]\n",
      "[[1. 1.]\n",
      " [1. 1.]]\n",
      "[[0. 0.]\n",
      " [0. 0.]\n",
      " [0. 0.]]\n",
      "[[1. 0. 0. 0.]\n",
      " [0. 1. 0. 0.]\n",
      " [0. 0. 1. 0.]\n",
      " [0. 0. 0. 1.]]\n",
      "[[[1. 1. 1. 1.]\n",
      "  [1. 1. 1. 1.]\n",
      "  [1. 1. 1. 1.]]\n",
      "\n",
      " [[1. 1. 1. 1.]\n",
      "  [1. 1. 1. 1.]\n",
      "  [1. 1. 1. 1.]]]\n",
      "[[9 9]\n",
      " [9 9]\n",
      " [9 9]]\n",
      "[[2 2]\n",
      " [2 2]\n",
      " [2 2]]\n",
      "[[-1 -1]\n",
      " [-1 -1]\n",
      " [-1 -1]]\n",
      "[[0.79101388 0.73159475 0.43548145]\n",
      " [0.36993806 0.53962904 0.65580848]\n",
      " [0.72812101 0.07950765 0.36529656]\n",
      " [0.360683   0.89057869 0.83959957]]\n",
      "[[8 4 9 2]\n",
      " [7 7 9 9]\n",
      " [3 6 2 6]]\n",
      "[[0.21683582]]\n"
     ]
    }
   ],
   "source": [
    "import numpy as np\n",
    "print (np.ones ((2,3))) #membuat array matriks dengan ukuran 2 x 3 yang semua elemen diisi dengan angka 1\n",
    "print (np.ones ((2,2)))  #membuat array matriks dengan ukuran 2 x 2 yang semua elemen diisi dengan angka 1\n",
    "\n",
    "print (np.zeros ((3,2)))  #membuat array matriks dengan ukuran 3 x 2 yang semua elemen diisi dengan angka 0\n",
    "print (np.identity(4))  #membuat array matriks identitas dengan ukuran 4 x 4 \n",
    "print (np.ones ((2,3,4)))  #membuat array matriks dengan ukuran 3 x 4 yang semua elemen diisi dengan angka 1\n",
    "\n",
    "print (np.full((3,2),9))  #membuat array matriks dengan ukuran 3 x 2 yang semua elemen diisi dengan angka 9\n",
    "print (np.full ((3,2),2)) #membuat array matriks dengan ukuran 3 x 2 yang semua elemen diisi dengan angka 2\n",
    "print (np.full ((3,2),-1)) #membuat array matriks dengan ukuran 3 x 2 yang semua elemen diisi dengan angka negatif yaitu -1\n",
    "\n",
    "print (np.random.rand(4,3))  #membuat array matriks dengan ukuran 4 x 3 yang semua elemen diisi dengan random\n",
    "print (np.random.randint(1,10,size=(3,4)))  #membuat array matriks dengan ukuran 3 x 4 yang semua elemen diisi dengan angka \n",
    "                                            #random anntara 1-10\n",
    "print (np.random.rand(1,1)) #membuat array matriks 1 x 1 elemen diisi dengan angka random"
   ]
  },
  {
   "cell_type": "markdown",
   "id": "d9a5d197",
   "metadata": {},
   "source": [
    "### Buatlah matriks ukuran 10 x 10 dengan menggunakan Numpy"
   ]
  },
  {
   "cell_type": "code",
   "execution_count": 21,
   "id": "5fb6685a",
   "metadata": {},
   "outputs": [
    {
     "name": "stdout",
     "output_type": "stream",
     "text": [
      "[[0. 0. 0. 0. 0. 0. 0. 0. 0. 0.]\n",
      " [0. 0. 0. 0. 0. 0. 0. 0. 0. 0.]\n",
      " [0. 0. 0. 0. 0. 0. 0. 0. 0. 0.]\n",
      " [0. 0. 0. 0. 0. 0. 0. 0. 0. 0.]\n",
      " [0. 0. 0. 0. 0. 0. 0. 0. 0. 0.]\n",
      " [0. 0. 0. 0. 0. 0. 0. 0. 0. 0.]\n",
      " [0. 0. 0. 0. 0. 0. 0. 0. 0. 0.]\n",
      " [0. 0. 0. 0. 0. 0. 0. 0. 0. 0.]\n",
      " [0. 0. 0. 0. 0. 0. 0. 0. 0. 0.]\n",
      " [0. 0. 0. 0. 0. 0. 0. 0. 0. 0.]]\n"
     ]
    }
   ],
   "source": [
    "#Jawaban:\n",
    "\n",
    "a=np.zeros ((10,10)) #pertama, buat matriks elemen 0 dengan ukuran 10x10\n",
    "print (a)"
   ]
  },
  {
   "cell_type": "code",
   "execution_count": 22,
   "id": "fab15ebd",
   "metadata": {},
   "outputs": [
    {
     "name": "stdout",
     "output_type": "stream",
     "text": [
      "[[1. 0. 0. 0. 0. 0. 0. 0. 0. 0.]\n",
      " [0. 1. 0. 0. 0. 0. 0. 0. 0. 0.]\n",
      " [0. 0. 1. 0. 0. 0. 0. 0. 0. 0.]\n",
      " [0. 0. 0. 1. 0. 0. 0. 0. 0. 0.]\n",
      " [0. 0. 0. 0. 1. 0. 0. 0. 0. 0.]\n",
      " [0. 0. 0. 0. 0. 1. 0. 0. 0. 0.]\n",
      " [0. 0. 0. 0. 0. 0. 1. 0. 0. 0.]\n",
      " [0. 0. 0. 0. 0. 0. 0. 1. 0. 0.]\n",
      " [0. 0. 0. 0. 0. 0. 0. 0. 1. 0.]\n",
      " [0. 0. 0. 0. 0. 0. 0. 0. 0. 1.]]\n"
     ]
    }
   ],
   "source": [
    "b=np.identity(10) #buat matriks identitas dengan ukuran 10x10\n",
    "print (b)"
   ]
  },
  {
   "cell_type": "code",
   "execution_count": 23,
   "id": "c29af6dd",
   "metadata": {},
   "outputs": [
    {
     "name": "stdout",
     "output_type": "stream",
     "text": [
      "[[9. 0. 0. 0. 0. 0. 0. 0. 0. 0.]\n",
      " [0. 9. 0. 0. 0. 0. 0. 0. 0. 0.]\n",
      " [0. 0. 9. 0. 0. 0. 0. 0. 0. 0.]\n",
      " [0. 0. 0. 9. 0. 0. 0. 0. 0. 0.]\n",
      " [0. 0. 0. 0. 9. 0. 0. 0. 0. 0.]\n",
      " [0. 0. 0. 0. 0. 9. 0. 0. 0. 0.]\n",
      " [0. 0. 0. 0. 0. 0. 9. 0. 0. 0.]\n",
      " [0. 0. 0. 0. 0. 0. 0. 9. 0. 0.]\n",
      " [0. 0. 0. 0. 0. 0. 0. 0. 9. 0.]\n",
      " [0. 0. 0. 0. 0. 0. 0. 0. 0. 9.]]\n"
     ]
    }
   ],
   "source": [
    "c=9*b  #mengalikan matriks b dengan angka 9, sehingga angka 1 di matriks b berubah menjadi 9\n",
    "print (c)"
   ]
  },
  {
   "cell_type": "code",
   "execution_count": 26,
   "id": "3adf6bb3",
   "metadata": {},
   "outputs": [
    {
     "name": "stdout",
     "output_type": "stream",
     "text": [
      "[[1. 1. 1. 1. 1. 1. 1. 1.]\n",
      " [1. 1. 1. 1. 1. 1. 1. 1.]\n",
      " [1. 1. 1. 1. 1. 1. 1. 1.]\n",
      " [1. 1. 1. 1. 1. 1. 1. 1.]\n",
      " [1. 1. 1. 1. 1. 1. 1. 1.]\n",
      " [1. 1. 1. 1. 1. 1. 1. 1.]\n",
      " [1. 1. 1. 1. 1. 1. 1. 1.]\n",
      " [1. 1. 1. 1. 1. 1. 1. 1.]]\n",
      "[[8. 0. 0. 0. 0. 0. 0. 0.]\n",
      " [0. 8. 0. 0. 0. 0. 0. 0.]\n",
      " [0. 0. 8. 0. 0. 0. 0. 0.]\n",
      " [0. 0. 0. 8. 0. 0. 0. 0.]\n",
      " [0. 0. 0. 0. 8. 0. 0. 0.]\n",
      " [0. 0. 0. 0. 0. 8. 0. 0.]\n",
      " [0. 0. 0. 0. 0. 0. 8. 0.]\n",
      " [0. 0. 0. 0. 0. 0. 0. 8.]]\n",
      "[[9. 1. 1. 1. 1. 1. 1. 1.]\n",
      " [1. 9. 1. 1. 1. 1. 1. 1.]\n",
      " [1. 1. 9. 1. 1. 1. 1. 1.]\n",
      " [1. 1. 1. 9. 1. 1. 1. 1.]\n",
      " [1. 1. 1. 1. 9. 1. 1. 1.]\n",
      " [1. 1. 1. 1. 1. 9. 1. 1.]\n",
      " [1. 1. 1. 1. 1. 1. 9. 1.]\n",
      " [1. 1. 1. 1. 1. 1. 1. 9.]]\n"
     ]
    }
   ],
   "source": [
    "d=np.ones((8,8)) #membuat matriks berelemen 1 berukuran 8x8\n",
    "e=np.identity (8)*8 #membuat matriks identitas berukuran 8 kali 8 lalu dikali dengan konstanta 8, sehingga angka 1 berubah jd 8\n",
    "f=d+e #matriks f adalah penjumlahan dari matriks d dan e\n",
    "print (d)\n",
    "print (e)\n",
    "print (f)"
   ]
  },
  {
   "cell_type": "code",
   "execution_count": 35,
   "id": "183f4c07",
   "metadata": {},
   "outputs": [
    {
     "name": "stdout",
     "output_type": "stream",
     "text": [
      "[[9. 0. 0. 0. 0. 0. 0. 0. 0. 0.]\n",
      " [0. 9. 1. 1. 1. 1. 1. 1. 1. 0.]\n",
      " [0. 1. 9. 1. 1. 1. 1. 1. 1. 0.]\n",
      " [0. 1. 1. 9. 1. 1. 1. 1. 1. 0.]\n",
      " [0. 1. 1. 1. 9. 1. 1. 1. 1. 0.]\n",
      " [0. 1. 1. 1. 1. 9. 1. 1. 1. 0.]\n",
      " [0. 1. 1. 1. 1. 1. 9. 1. 1. 0.]\n",
      " [0. 1. 1. 1. 1. 1. 1. 9. 1. 0.]\n",
      " [0. 1. 1. 1. 1. 1. 1. 1. 9. 0.]\n",
      " [0. 0. 0. 0. 0. 0. 0. 0. 0. 9.]]\n"
     ]
    }
   ],
   "source": [
    "c[1:-1,1:-1]=f\n",
    "print (c)"
   ]
  },
  {
   "cell_type": "code",
   "execution_count": 33,
   "id": "d4d2103a",
   "metadata": {},
   "outputs": [
    {
     "name": "stdout",
     "output_type": "stream",
     "text": [
      "[[9. 0. 0. 0. 0. 0.]\n",
      " [0. 9. 0. 0. 0. 0.]\n",
      " [0. 0. 9. 0. 0. 0.]\n",
      " [0. 0. 0. 9. 0. 0.]\n",
      " [0. 0. 0. 0. 9. 0.]\n",
      " [0. 0. 0. 0. 0. 9.]]\n",
      "[[9. 0. 0. 0. 0. 0. 0. 0. 0. 0.]\n",
      " [0. 9. 1. 1. 1. 1. 1. 1. 1. 0.]\n",
      " [0. 1. 9. 0. 0. 0. 0. 0. 1. 0.]\n",
      " [0. 1. 0. 9. 0. 0. 0. 0. 1. 0.]\n",
      " [0. 1. 0. 0. 9. 0. 0. 0. 1. 0.]\n",
      " [0. 1. 0. 0. 0. 9. 0. 0. 1. 0.]\n",
      " [0. 1. 0. 0. 0. 0. 9. 0. 1. 0.]\n",
      " [0. 1. 0. 0. 0. 0. 0. 9. 1. 0.]\n",
      " [0. 1. 1. 1. 1. 1. 1. 1. 9. 0.]\n",
      " [0. 0. 0. 0. 0. 0. 0. 0. 0. 9.]]\n"
     ]
    }
   ],
   "source": [
    "g=np.identity (6)*9 #buat matriks identitas 6x6 dan dikali dengan konstanta 9, sehingga 1 menjadi 9\n",
    "c[2:-2,2:-2]=g\n",
    "print (g)\n",
    "print (c)"
   ]
  },
  {
   "cell_type": "code",
   "execution_count": 30,
   "id": "5e96e025",
   "metadata": {},
   "outputs": [
    {
     "name": "stdout",
     "output_type": "stream",
     "text": [
      "[[2. 2. 2. 2.]\n",
      " [2. 2. 2. 2.]\n",
      " [2. 2. 2. 2.]\n",
      " [2. 2. 2. 2.]]\n",
      "[[7. 0. 0. 0.]\n",
      " [0. 7. 0. 0.]\n",
      " [0. 0. 7. 0.]\n",
      " [0. 0. 0. 7.]]\n",
      "[[9. 2. 2. 2.]\n",
      " [2. 9. 2. 2.]\n",
      " [2. 2. 9. 2.]\n",
      " [2. 2. 2. 9.]]\n"
     ]
    }
   ],
   "source": [
    "h=np.ones ((4,4))*2 #buat matriks elemen 1 4x4 dan dikali dengan konstanta 2, sehingga 1 menjadi 2\n",
    "i=np.identity(4)*7 #buat matriks identitas 4x4 dan dikali dengan konstanta 7, sehingga 1 menjadi 7\n",
    "j=h+i #matriks j adalah penjumlahan matriks h dan matriks i\n",
    "print (h)\n",
    "print (i)\n",
    "print (j)"
   ]
  },
  {
   "cell_type": "code",
   "execution_count": 31,
   "id": "b5bef844",
   "metadata": {},
   "outputs": [
    {
     "name": "stdout",
     "output_type": "stream",
     "text": [
      "[[9. 0. 0. 0. 0. 0. 0. 0. 0. 0.]\n",
      " [0. 9. 1. 1. 1. 1. 1. 1. 1. 0.]\n",
      " [0. 1. 9. 0. 0. 0. 0. 0. 1. 0.]\n",
      " [0. 1. 0. 9. 2. 2. 2. 0. 1. 0.]\n",
      " [0. 1. 0. 2. 9. 2. 2. 0. 1. 0.]\n",
      " [0. 1. 0. 2. 2. 9. 2. 0. 1. 0.]\n",
      " [0. 1. 0. 2. 2. 2. 9. 0. 1. 0.]\n",
      " [0. 1. 0. 0. 0. 0. 0. 9. 1. 0.]\n",
      " [0. 1. 1. 1. 1. 1. 1. 1. 9. 0.]\n",
      " [0. 0. 0. 0. 0. 0. 0. 0. 0. 9.]]\n"
     ]
    }
   ],
   "source": [
    "c[3:-3,3:-3]=j\n",
    "print(c)"
   ]
  },
  {
   "cell_type": "code",
   "execution_count": 32,
   "id": "7268182b",
   "metadata": {
    "scrolled": true
   },
   "outputs": [
    {
     "name": "stdout",
     "output_type": "stream",
     "text": [
      "[[9. 0. 0. 0. 0. 0. 0. 0. 0. 0.]\n",
      " [0. 9. 1. 1. 1. 1. 1. 1. 1. 0.]\n",
      " [0. 1. 9. 0. 0. 0. 0. 0. 1. 0.]\n",
      " [0. 1. 0. 9. 2. 2. 2. 0. 1. 0.]\n",
      " [0. 1. 0. 2. 9. 0. 2. 0. 1. 0.]\n",
      " [0. 1. 0. 2. 0. 9. 2. 0. 1. 0.]\n",
      " [0. 1. 0. 2. 2. 2. 9. 0. 1. 0.]\n",
      " [0. 1. 0. 0. 0. 0. 0. 9. 1. 0.]\n",
      " [0. 1. 1. 1. 1. 1. 1. 1. 9. 0.]\n",
      " [0. 0. 0. 0. 0. 0. 0. 0. 0. 9.]]\n"
     ]
    }
   ],
   "source": [
    "k=np.identity (2)*9\n",
    "c[4:-4,4:-4]=k\n",
    "print (c)"
   ]
  },
  {
   "cell_type": "markdown",
   "id": "c72029f4",
   "metadata": {},
   "source": [
    "### copy pada numpy"
   ]
  },
  {
   "cell_type": "code",
   "execution_count": null,
   "id": "87c529d3",
   "metadata": {},
   "outputs": [],
   "source": [
    "Untuk menghindari perubahan variabel awal yang tidak dikehendaki, maka diperlukan perintah copy pada numpy sbb"
   ]
  },
  {
   "cell_type": "code",
   "execution_count": 36,
   "id": "82843e89",
   "metadata": {},
   "outputs": [
    {
     "name": "stdout",
     "output_type": "stream",
     "text": [
      "[1 2 3 4 5]\n"
     ]
    }
   ],
   "source": [
    "import numpy as np\n",
    "\n",
    "#CONTOH YANG SALAH\n",
    "a=np.array([1,2,3,4,5])  #misalkan terdapat array a yang berisikan 12345\n",
    "print (a)\n",
    "\n",
    "b=a  #matriks b=matriks a\n",
    "print (b)\n",
    "\n",
    "b[0]=10 #sehingga pada saat ingin mengubah suatu elemen di array b, elemen pada array a juga akan berubah\n",
    "print (b)\n",
    "\n",
    "print (a) #karena belum dicopy terlebih dahulu"
   ]
  },
  {
   "cell_type": "code",
   "execution_count": 44,
   "id": "07cdce8b",
   "metadata": {},
   "outputs": [
    {
     "name": "stdout",
     "output_type": "stream",
     "text": [
      "[1 2 3 4 5]\n",
      "[1 2 3 4 5]\n",
      "[10  2  3  4  5]\n",
      "[1 2 3 4 5]\n"
     ]
    }
   ],
   "source": [
    "#CONTOH YANG BENAR\n",
    "c=np.array([1,2,3,4,5]) #misalkan terdapat array a yang berisikan 12345\n",
    "print (c)\n",
    "\n",
    "d=c.copy () #matriks d adalah copy dari matriks c\n",
    "print (d)\n",
    "\n",
    "d[0]=10 #sehingga pada saat ingin mengubah suatu elemen di array d, elemen pada array c tidak akan ikut berubah\n",
    "print (d)\n",
    "\n",
    "print (c)"
   ]
  },
  {
   "cell_type": "markdown",
   "id": "5050938d",
   "metadata": {},
   "source": [
    "### 5.20.5 operasi matematika pada numpy"
   ]
  },
  {
   "cell_type": "code",
   "execution_count": 49,
   "id": "4812589e",
   "metadata": {},
   "outputs": [
    {
     "name": "stdout",
     "output_type": "stream",
     "text": [
      "[2 3 4 5 6 7]\n",
      "[-2 -1  0  1  2  3]\n",
      "[ 0  2  4  6  8 10]\n",
      "[0.  0.5 1.  1.5 2.  2.5]\n",
      "[ 0  1  4  9 16 25]\n"
     ]
    }
   ],
   "source": [
    "#CONTOH 1\n",
    "a=np.array ([0,1,2,3,4,5])\n",
    "print (a+2) #tiap elemen di array a dijumlahkan dengan 2\n",
    "print (a-2)#tiap elemen di array a dikurangkan dengan 2\n",
    "print (a*2) #tiap elemen di array a dikalikan dengan 2\n",
    "print (a/2) #tiap elemen di array a dibagi dengan 2\n",
    "print (a**2) #tiap elemen di array a dipangkatkan dengan 2"
   ]
  },
  {
   "cell_type": "code",
   "execution_count": 53,
   "id": "3a11537f",
   "metadata": {},
   "outputs": [
    {
     "name": "stdout",
     "output_type": "stream",
     "text": [
      "[ 6  7  8  9 10 11]\n",
      "[ 6  8 10 12 14 16]\n",
      "[-6 -6 -6 -6 -6 -6]\n",
      "[ 0  7 16 27 40 55]\n",
      "[0.         0.14285714 0.25       0.33333333 0.4        0.45454545]\n",
      "[     1      7     64    729  10000 161051]\n"
     ]
    }
   ],
   "source": [
    "#CONTOH 2\n",
    "b=np.array ([6,7,8,9,10,11])\n",
    "print (b)\n",
    "print (a+b) #menjumlahkan array a dan b di tiap elemen yang sesuai\n",
    "print (a-b) #mengurangkann array a dan b di tiap elemen yang sesuai\n",
    "print (a*b) ##mengalikan array a dan b di tiap elemen yang sesuai\n",
    "print (a/b) ##membagi array a dan b di tiap elemen yang sesui\n",
    "print (b**a) #memangkatkan tiap elemen b dengan a di tiap elemen yang sesuai"
   ]
  },
  {
   "cell_type": "code",
   "execution_count": 18,
   "id": "45c480ff",
   "metadata": {},
   "outputs": [
    {
     "name": "stdout",
     "output_type": "stream",
     "text": [
      "Penjumlahan =  [3 4 5 6 7]\n",
      "Pengurangan =  [-1  0  1  2  3]\n",
      "Perkalian =  [ 2  4  6  8 10]\n",
      "Pembagian =  [0.5 1.  1.5 2.  2.5]\n",
      "Perpangkatan =  [ 1  4  9 16 25]\n"
     ]
    }
   ],
   "source": [
    "#CONTOH 3\n",
    "arr_29= np.array ([1,2,3,4,5])\n",
    "arr_29_2=np.array ([2,2,2,2,2])\n",
    "\n",
    "#operasi matematika berupa tambah +, kurang -,kali *,bagi /,dan pangkat **\n",
    "print (\"Penjumlahan = \", arr_29+arr_29_2)\n",
    "print (\"Pengurangan = \", arr_29-arr_29_2)\n",
    "print (\"Perkalian = \", arr_29*arr_29_2)\n",
    "print (\"Pembagian = \", arr_29/arr_29_2)\n",
    "print (\"Perpangkatan = \", arr_29**arr_29_2)"
   ]
  },
  {
   "cell_type": "code",
   "execution_count": 24,
   "id": "08df205a",
   "metadata": {},
   "outputs": [
    {
     "name": "stdout",
     "output_type": "stream",
     "text": [
      "-0.39998531498835127\n",
      "[ 0.54030231 -0.41614684 -0.9899925  -0.65364362  0.28366219]\n",
      "[ 0.5551133   0.99984331  0.52532199 -0.43217794 -0.99233547]\n",
      "2.2913879924374863\n",
      "[ 0.1606567  -1.11721493  3.61455441  0.31030966 -0.84077126]\n",
      "-0.9165215479156338\n",
      "8.696374707602505e+17\n",
      "[8.69637471e+17 6.59407867e+08 6.01302142e+05 1.81577513e+04\n",
      " 2.22353326e+03]\n",
      "8.696374707602505e+17\n",
      "1.5125386611005713e+36\n",
      "1.0\n",
      "[1. 1. 1. 1. 1.]\n",
      "6.48074069840786\n"
     ]
    }
   ],
   "source": [
    "#OPERASI MENGGUNAKAN SIN COS TAN\n",
    "print (np.cos(a))\n",
    "print (np.cos (b))\n",
    "print (np.cos (a+b))#menambahkan array a dan b dalam fungsi cos\n",
    "\n",
    "print (np.tan (a))\n",
    "print (np.tan (a-b)) #mengurangkan array a dan b dalam fungsi tan\n",
    "\n",
    "print (np.sin(a))\n",
    "print (np.sinh (a))\n",
    "print (np.sinh(a/b)) #membagi array a dan b dalam fungsi sinh\n",
    "\n",
    "print (np.cosh (a))\n",
    "print (np.cosh (a*2))#mengalikan array a dengan 2 dalam fungsi cosh\n",
    "\n",
    "print (np.tanh(a))\n",
    "print (np.tanh(a-b))#mengurangkan array a dan b dalam fungsi tanh\n",
    "\n",
    "print (np.sqrt(a)) #menghitung akar kuadrat"
   ]
  },
  {
   "cell_type": "code",
   "execution_count": 30,
   "id": "abdb9f75",
   "metadata": {},
   "outputs": [
    {
     "name": "stdout",
     "output_type": "stream",
     "text": [
      "0.7853981633974483\n"
     ]
    }
   ],
   "source": [
    "#menemukan sudut dari fungsi trigonometri\n",
    "#soal: temukan sudut tan 1,0\n",
    "    \n",
    "import numpy as np\n",
    "x=np.arctan(1.0)\n",
    "print (x)"
   ]
  },
  {
   "cell_type": "code",
   "execution_count": 27,
   "id": "f9510915",
   "metadata": {},
   "outputs": [
    {
     "name": "stdout",
     "output_type": "stream",
     "text": [
      "0.5000000000000001\n",
      "[1.57079633 3.14159265 4.71238898 6.28318531]\n",
      "[ 90. 180. 270. 360.]\n"
     ]
    }
   ],
   "source": [
    "#CONTOH LAIN (mengubah nilai array berikut menjadi radian)\n",
    "import numpy as np\n",
    "x=np.cos(np.pi/3)\n",
    "print (x)\n",
    "\n",
    "#konversi array menjadi radian\n",
    "arr=np.array ([90,180,270,360])\n",
    "x=np.deg2rad(arr)\n",
    "print (x)\n",
    "\n",
    "#konversi radian menjadi derajat\n",
    "arr=np.array([np.pi/2, np.pi, 1.5*np.pi, 2*np.pi])\n",
    "x=np.rad2deg(arr)\n",
    "print (x)"
   ]
  },
  {
   "cell_type": "markdown",
   "id": "04f37d71",
   "metadata": {},
   "source": [
    "### perkalian matriks pada numpy"
   ]
  },
  {
   "cell_type": "code",
   "execution_count": null,
   "id": "28c7e697",
   "metadata": {},
   "outputs": [],
   "source": [
    "Perkalian matriks pada Numpy menggunakan perintah matmul.\n",
    "Kita perlu memerhatikan tentang ukuran matriks yang akan dikalikan. \n",
    "Contoh, matriks 2x3 dapat dikalikan dengan matriks 3x4"
   ]
  },
  {
   "cell_type": "code",
   "execution_count": 70,
   "id": "1c3892b3",
   "metadata": {},
   "outputs": [
    {
     "name": "stdout",
     "output_type": "stream",
     "text": [
      "[[1 2 3 4]\n",
      " [5 6 7 8]]\n",
      "[[ 9 10 11 12]\n",
      " [13 14 15 16]]\n",
      "[[  9  20  33  48]\n",
      " [ 65  84 105 128]]\n",
      "[[ 9 10]\n",
      " [11 12]\n",
      " [13 14]\n",
      " [15 16]]\n",
      "[[130 140]\n",
      " [322 348]]\n",
      "[[  9  20]\n",
      " [ 33  48]\n",
      " [ 65  84]\n",
      " [105 128]]\n"
     ]
    }
   ],
   "source": [
    "a=np.array([[1,2,3,4],[5,6,7,8]])\n",
    "print (a)\n",
    "\n",
    "b=np.array ([[9,10,11,12],[13,14,15,16]])\n",
    "print (b)\n",
    "\n",
    "c=a*b  #matriks c adalah perkalian matriks a dan b\n",
    "        #perkalian kedua matriks dapat dilakukan karena matriks a dan matriks b memenuhi ukuran matriks yang sesuai\n",
    "print (c)\n",
    "\n",
    "\n",
    "e=np.array([[9,10],[11,12],[13,14],[15,16]])\n",
    "print (e)\n",
    "\n",
    "h=np.array ([[1,2],[3,4],[5,6],[7,8]])\n",
    "\n",
    "f=np.matmul (a,e)\n",
    "print (f)\n",
    "\n",
    "g=h*e  #perkalian matriks (4,2) dan (4,2)\n",
    "print (g)"
   ]
  },
  {
   "cell_type": "markdown",
   "id": "aff4f7d9",
   "metadata": {},
   "source": [
    "### min, max dan sum pada numpy"
   ]
  },
  {
   "cell_type": "markdown",
   "id": "25a042e4",
   "metadata": {},
   "source": [
    "Perintah min, max dan sum digunakan untuk mengetahui nilai minimum, maksimum, dan penjumlahan"
   ]
  },
  {
   "cell_type": "code",
   "execution_count": 76,
   "id": "42f4d9a5",
   "metadata": {},
   "outputs": [
    {
     "name": "stdout",
     "output_type": "stream",
     "text": [
      "[[ 1  2  3  4]\n",
      " [ 5  6  7  8]\n",
      " [ 9 10 11 12]]\n",
      "1\n",
      "[1 2 3 4]\n",
      "[1 5 9]\n",
      "12\n",
      "[ 9 10 11 12]\n",
      "[ 4  8 12]\n",
      "78\n",
      "[15 18 21 24]\n",
      "[10 26 42]\n"
     ]
    }
   ],
   "source": [
    "a=np.array([[1,2,3,4],\n",
    "            [5,6,7,8],\n",
    "           [9,10,11,12]])\n",
    "print (a)  #mencetak array a\n",
    "\n",
    "b=np.min(a)  #mencari tahu nilai minimum pada array b, yaitu 1\n",
    "print (b)\n",
    "\n",
    "c=np.min (a,axis=0)  #mencari tahu nilai minimum pada array a, pada sumbu x atau kolom\n",
    "print (c)\n",
    "\n",
    "d=np.min (a,axis=1) #mencari tahu nilai minimum pada array a, pada sumbu y atau baris\n",
    "print (d)\n",
    "\n",
    "e=np.max (a)  #mencari tahu nilai maksimal yang ada di dalam array a\n",
    "print (e)\n",
    "\n",
    "f=np.max (a,axis=0) #mencari nilai kolom yang maksimal dari kolom-kolom yang lain\n",
    "print (f)\n",
    "\n",
    "g=np.max(a,axis=1) #mencari nilai max axis pada kolom (baris ke bawah), yang paling besar adalah kolom terakhir yaitu\n",
    "                    #kolom yang berisi 4, 8, 12\n",
    "print (g)\n",
    "\n",
    "h=np.sum (a)  #menjumlahkan semua elemen pada array a\n",
    "print (h)\n",
    "\n",
    "h=np.sum (a,axis=0) #menjumlahkan nilai elemen a pada setiap kolom\n",
    "print (h)           \n",
    "\n",
    "i=np.sum(a,axis=1) #menjumlahkan nilai elemen a pada setiap barisnya\n",
    "print (i)"
   ]
  },
  {
   "cell_type": "markdown",
   "id": "a29978b1",
   "metadata": {},
   "source": [
    "# DIMENSI PADA ARRAY"
   ]
  },
  {
   "cell_type": "code",
   "execution_count": 80,
   "id": "daf1091f",
   "metadata": {
    "scrolled": true
   },
   "outputs": [
    {
     "name": "stdout",
     "output_type": "stream",
     "text": [
      "42\n",
      "[1 2 3 4 5]\n",
      "[[1 2 3]\n",
      " [4 5 6]]\n"
     ]
    }
   ],
   "source": [
    "#dimensi pada array\n",
    "#dimensi dalam array adalah satu tingkat kedalaman array (array bersarang)\n",
    "\n",
    "\n",
    "#membuat 0-D array dengan nilai 42\n",
    "import numpy as np\n",
    "arr = np.array (42)\n",
    "print (arr)\n",
    "\n",
    "#membuat 1-D array yang mengandung nilai 1,2,3,4,5\n",
    "#adalah array yang paling umum dan dasar\n",
    "import numpy as np\n",
    "arr=np.array ([1,2,3,4,5])\n",
    "print (arr)\n",
    "\n",
    "#2-D array adalah sebuah array yang memiliki 1-D sebagai elemennya,sering digunakan untuk merepresentasikan matriks\n",
    "#membuat 2-D array yang mengandung dua array dengan nilai 1,2,3 dan 4,5,dan 6:\n",
    "import numpy as np\n",
    "arr=np.array ([[1,2,3],[4,5,6]])\n",
    "print (arr)\n",
    "\n",
    "#3-D array adalah array yang memiliki 2-D sebagai elemennya, biasa digunakan tensor ke-3\n",
    "#membuat 3-D array dengan nilai 1,2,3 dan 4,5,6:\n",
    "import numpy as np \n",
    "arr= np.array ([[1,2,3],[4,5,6]], [[1,2,3],[4,5,6]])\n",
    "print (arr)"
   ]
  },
  {
   "cell_type": "markdown",
   "id": "1ec6664d",
   "metadata": {},
   "source": [
    "## TAMBAHAN "
   ]
  },
  {
   "cell_type": "code",
   "execution_count": 28,
   "id": "b9930e82",
   "metadata": {},
   "outputs": [
    {
     "name": "stdout",
     "output_type": "stream",
     "text": [
      "<class 'numpy.ndarray'>\n"
     ]
    }
   ],
   "source": [
    "#MENGECEK TIPE DATA ARRAY\n",
    "import numpy as np\n",
    "arr=np.array ([[1,2,3],[4,5,6]])\n",
    "print (type (arr))"
   ]
  },
  {
   "cell_type": "code",
   "execution_count": null,
   "id": "8af05d6b",
   "metadata": {},
   "outputs": [],
   "source": []
  }
 ],
 "metadata": {
  "kernelspec": {
   "display_name": "Python 3 (ipykernel)",
   "language": "python",
   "name": "python3"
  },
  "language_info": {
   "codemirror_mode": {
    "name": "ipython",
    "version": 3
   },
   "file_extension": ".py",
   "mimetype": "text/x-python",
   "name": "python",
   "nbconvert_exporter": "python",
   "pygments_lexer": "ipython3",
   "version": "3.9.13"
  }
 },
 "nbformat": 4,
 "nbformat_minor": 5
}
