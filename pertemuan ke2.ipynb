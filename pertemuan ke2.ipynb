{
 "cells": [
  {
   "cell_type": "code",
   "execution_count": 21,
   "id": "625ece3a",
   "metadata": {},
   "outputs": [
    {
     "name": "stdout",
     "output_type": "stream",
     "text": [
      "Saya Vanessa\n"
     ]
    }
   ],
   "source": [
    "print (\"Saya Vanessa\")"
   ]
  },
  {
   "cell_type": "code",
   "execution_count": 22,
   "id": "3b6c1937",
   "metadata": {},
   "outputs": [
    {
     "name": "stdout",
     "output_type": "stream",
     "text": [
      "saya iseng\n"
     ]
    }
   ],
   "source": [
    "#hai hai, hari ini adalah hari senin.\n",
    "#makasih\n",
    "#okeh\n",
    "print ('saya iseng')"
   ]
  },
  {
   "cell_type": "code",
   "execution_count": 1,
   "id": "d13875b0",
   "metadata": {},
   "outputs": [
    {
     "name": "stdout",
     "output_type": "stream",
     "text": [
      "Siapa nama Anda?aku\n"
     ]
    }
   ],
   "source": [
    "nama = input(\"Siapa nama Anda?\")"
   ]
  },
  {
   "cell_type": "code",
   "execution_count": 2,
   "id": "a14cbc02",
   "metadata": {},
   "outputs": [
    {
     "name": "stdout",
     "output_type": "stream",
     "text": [
      "Apa nama kegiatan Anda sekarang?makan\n"
     ]
    }
   ],
   "source": [
    "kegiatan = input(\"Apa nama kegiatan Anda sekarang?\")"
   ]
  },
  {
   "cell_type": "code",
   "execution_count": 10,
   "id": "81e3f20e",
   "metadata": {},
   "outputs": [
    {
     "name": "stdout",
     "output_type": "stream",
     "text": [
      "Semangat makannya yaa, vanessa !!\n"
     ]
    }
   ],
   "source": [
    "print(\"Semangat \"+ kegiatan +\"nya yaa, \"+ nama +\" !!\")\n"
   ]
  },
  {
   "cell_type": "code",
   "execution_count": 23,
   "id": "b12025eb",
   "metadata": {},
   "outputs": [
    {
     "name": "stdout",
     "output_type": "stream",
     "text": [
      "Siapa nama Anda?vanessa\n",
      "Apa nama kegiatan Anda sekarang?tidur\n",
      "Semangat tidurnya yaa, vanessa !!\n"
     ]
    }
   ],
   "source": [
    "nama = input(\"Siapa nama Anda?\")\n",
    "kegiatan = input(\"Apa nama kegiatan Anda sekarang?\")\n",
    "print(\"Semangat \"+ kegiatan +\"nya yaa, \"+ nama +\" !!\")"
   ]
  },
  {
   "cell_type": "code",
   "execution_count": 12,
   "id": "bb93f82c",
   "metadata": {},
   "outputs": [
    {
     "name": "stdout",
     "output_type": "stream",
     "text": [
      "Nama Anda= nes       \n",
      "nes       , semangat yak <3333\n"
     ]
    }
   ],
   "source": [
    "nama= input (\"Nama Anda= \")\n",
    "print (nama+\", semangat yak <3333\")"
   ]
  },
  {
   "cell_type": "code",
   "execution_count": 16,
   "id": "bd291a2a",
   "metadata": {},
   "outputs": [
    {
     "name": "stdout",
     "output_type": "stream",
     "text": [
      "Isi dompet anda= 2\n",
      "Isi tabungan anda= 3\n",
      "total uang anda adalah 5\n"
     ]
    }
   ],
   "source": [
    "#sebelumnya terdapat error di bagian print, karena saya kurang teliti dan lupa menambahkan tanda +, saya jg br paham mengenai cara\n",
    "#merubah tipe data string integer\n",
    "dompet=input (\"Isi dompet anda= \")\n",
    "tabungan= input (\"Isi tabungan anda= \")\n",
    "total_uang= int (dompet)+int (tabungan)\n",
    "print (\"total uang anda adalah \"+str (total_uang))"
   ]
  },
  {
   "cell_type": "code",
   "execution_count": 18,
   "id": "4de4f7d9",
   "metadata": {},
   "outputs": [
    {
     "data": {
      "text/plain": [
       "str"
      ]
     },
     "execution_count": 18,
     "metadata": {},
     "output_type": "execute_result"
    }
   ],
   "source": [
    "type (dompet)"
   ]
  },
  {
   "cell_type": "code",
   "execution_count": 19,
   "id": "b37478c8",
   "metadata": {},
   "outputs": [
    {
     "data": {
      "text/plain": [
       "str"
      ]
     },
     "execution_count": 19,
     "metadata": {},
     "output_type": "execute_result"
    }
   ],
   "source": [
    "type (tabungan)"
   ]
  },
  {
   "cell_type": "code",
   "execution_count": 20,
   "id": "4a03e31b",
   "metadata": {},
   "outputs": [
    {
     "data": {
      "text/plain": [
       "int"
      ]
     },
     "execution_count": 20,
     "metadata": {},
     "output_type": "execute_result"
    }
   ],
   "source": [
    "type (total_uang)"
   ]
  },
  {
   "cell_type": "code",
   "execution_count": null,
   "id": "5c988a07",
   "metadata": {},
   "outputs": [],
   "source": []
  }
 ],
 "metadata": {
  "kernelspec": {
   "display_name": "Python 3 (ipykernel)",
   "language": "python",
   "name": "python3"
  },
  "language_info": {
   "codemirror_mode": {
    "name": "ipython",
    "version": 3
   },
   "file_extension": ".py",
   "mimetype": "text/x-python",
   "name": "python",
   "nbconvert_exporter": "python",
   "pygments_lexer": "ipython3",
   "version": "3.9.13"
  }
 },
 "nbformat": 4,
 "nbformat_minor": 5
}
